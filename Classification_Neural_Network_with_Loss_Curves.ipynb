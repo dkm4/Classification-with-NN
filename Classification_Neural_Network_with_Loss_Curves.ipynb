{
  "nbformat": 4,
  "nbformat_minor": 0,
  "metadata": {
    "colab": {
      "provenance": [],
      "include_colab_link": true
    },
    "kernelspec": {
      "name": "python3",
      "display_name": "Python 3"
    },
    "language_info": {
      "name": "python"
    }
  },
  "cells": [
    {
      "cell_type": "markdown",
      "metadata": {
        "id": "view-in-github",
        "colab_type": "text"
      },
      "source": [
        "<a href=\"https://colab.research.google.com/github/dkm4/Classification-with-NN/blob/main/Classification_Neural_Network_with_Loss_Curves.ipynb\" target=\"_parent\"><img src=\"https://colab.research.google.com/assets/colab-badge.svg\" alt=\"Open In Colab\"/></a>"
      ]
    },
    {
      "cell_type": "markdown",
      "source": [
        "# imports"
      ],
      "metadata": {
        "id": "083E2zr_u5Yd"
      }
    },
    {
      "cell_type": "code",
      "source": [
        "import torch\n",
        "\n",
        "from torch import nn\n",
        "import pandas as pd\n",
        "import numpy as np\n",
        "import matplotlib.pyplot as plt\n",
        "print(torch.__version__)"
      ],
      "metadata": {
        "colab": {
          "base_uri": "https://localhost:8080/"
        },
        "id": "tF67D_giu9s7",
        "outputId": "963781a9-a1a5-4cb5-f4f1-df5ca03c31a0"
      },
      "execution_count": 1,
      "outputs": [
        {
          "output_type": "stream",
          "name": "stdout",
          "text": [
            "2.1.0+cu121\n"
          ]
        }
      ]
    },
    {
      "cell_type": "markdown",
      "source": [
        "# Get the device"
      ],
      "metadata": {
        "id": "_BrkeGRgu-3k"
      }
    },
    {
      "cell_type": "code",
      "source": [
        "device = \"cuda\" if torch.cuda.is_available() else \"cpu\"\n",
        "print(device)"
      ],
      "metadata": {
        "colab": {
          "base_uri": "https://localhost:8080/"
        },
        "id": "a6a2MTg6vAWM",
        "outputId": "398dcb15-6cb4-43e2-d7cd-15055c8248f8"
      },
      "execution_count": 2,
      "outputs": [
        {
          "output_type": "stream",
          "name": "stdout",
          "text": [
            "cpu\n"
          ]
        }
      ]
    },
    {
      "cell_type": "markdown",
      "source": [
        "# Generate classification dataset"
      ],
      "metadata": {
        "id": "8M4U4oU0vFJ8"
      }
    },
    {
      "cell_type": "code",
      "source": [
        "from sklearn.datasets import make_circles\n",
        "X, y = make_circles(n_samples=100, noise=0.02, random_state=42)"
      ],
      "metadata": {
        "id": "J1fCgKQFvHXc"
      },
      "execution_count": 3,
      "outputs": []
    },
    {
      "cell_type": "code",
      "source": [
        "print(type(X))\n",
        "print(type(y))\n",
        "print(f\"X shape  {X.shape}\")\n",
        "print(\"y shape \",y.shape)\n",
        "print(f\"First 4 values of X {X[:4]}\")\n",
        "print(f\"First 4 values of y {y[:4]}\")"
      ],
      "metadata": {
        "colab": {
          "base_uri": "https://localhost:8080/"
        },
        "id": "mTBMazVHvieE",
        "outputId": "44b1bc5c-4b7c-4d3f-bd1b-ddb9dd2b03cc"
      },
      "execution_count": 4,
      "outputs": [
        {
          "output_type": "stream",
          "name": "stdout",
          "text": [
            "<class 'numpy.ndarray'>\n",
            "<class 'numpy.ndarray'>\n",
            "X shape  (100, 2)\n",
            "y shape  (100,)\n",
            "First 4 values of X [[-0.41593533 -0.69359675]\n",
            " [ 0.75334204  0.32057287]\n",
            " [-0.64298186  0.48216909]\n",
            " [ 0.79109029 -0.59002501]]\n",
            "First 4 values of y [1 1 1 0]\n"
          ]
        }
      ]
    },
    {
      "cell_type": "code",
      "source": [
        "circles = pd.DataFrame({\"X1\":X[:, 0], \"X2\":X[:, 1], \"label\":y})\n",
        "circles.head()"
      ],
      "metadata": {
        "colab": {
          "base_uri": "https://localhost:8080/",
          "height": 206
        },
        "id": "9TopCxyIwSiO",
        "outputId": "9ceda51c-ba74-4cb7-8920-9af874c0a51a"
      },
      "execution_count": 5,
      "outputs": [
        {
          "output_type": "execute_result",
          "data": {
            "text/plain": [
              "         X1        X2  label\n",
              "0 -0.415935 -0.693597      1\n",
              "1  0.753342  0.320573      1\n",
              "2 -0.642982  0.482169      1\n",
              "3  0.791090 -0.590025      0\n",
              "4  0.758347 -0.707025      0"
            ],
            "text/html": [
              "\n",
              "  <div id=\"df-c320e716-63ef-4a5e-a5fd-899f10944bab\" class=\"colab-df-container\">\n",
              "    <div>\n",
              "<style scoped>\n",
              "    .dataframe tbody tr th:only-of-type {\n",
              "        vertical-align: middle;\n",
              "    }\n",
              "\n",
              "    .dataframe tbody tr th {\n",
              "        vertical-align: top;\n",
              "    }\n",
              "\n",
              "    .dataframe thead th {\n",
              "        text-align: right;\n",
              "    }\n",
              "</style>\n",
              "<table border=\"1\" class=\"dataframe\">\n",
              "  <thead>\n",
              "    <tr style=\"text-align: right;\">\n",
              "      <th></th>\n",
              "      <th>X1</th>\n",
              "      <th>X2</th>\n",
              "      <th>label</th>\n",
              "    </tr>\n",
              "  </thead>\n",
              "  <tbody>\n",
              "    <tr>\n",
              "      <th>0</th>\n",
              "      <td>-0.415935</td>\n",
              "      <td>-0.693597</td>\n",
              "      <td>1</td>\n",
              "    </tr>\n",
              "    <tr>\n",
              "      <th>1</th>\n",
              "      <td>0.753342</td>\n",
              "      <td>0.320573</td>\n",
              "      <td>1</td>\n",
              "    </tr>\n",
              "    <tr>\n",
              "      <th>2</th>\n",
              "      <td>-0.642982</td>\n",
              "      <td>0.482169</td>\n",
              "      <td>1</td>\n",
              "    </tr>\n",
              "    <tr>\n",
              "      <th>3</th>\n",
              "      <td>0.791090</td>\n",
              "      <td>-0.590025</td>\n",
              "      <td>0</td>\n",
              "    </tr>\n",
              "    <tr>\n",
              "      <th>4</th>\n",
              "      <td>0.758347</td>\n",
              "      <td>-0.707025</td>\n",
              "      <td>0</td>\n",
              "    </tr>\n",
              "  </tbody>\n",
              "</table>\n",
              "</div>\n",
              "    <div class=\"colab-df-buttons\">\n",
              "\n",
              "  <div class=\"colab-df-container\">\n",
              "    <button class=\"colab-df-convert\" onclick=\"convertToInteractive('df-c320e716-63ef-4a5e-a5fd-899f10944bab')\"\n",
              "            title=\"Convert this dataframe to an interactive table.\"\n",
              "            style=\"display:none;\">\n",
              "\n",
              "  <svg xmlns=\"http://www.w3.org/2000/svg\" height=\"24px\" viewBox=\"0 -960 960 960\">\n",
              "    <path d=\"M120-120v-720h720v720H120Zm60-500h600v-160H180v160Zm220 220h160v-160H400v160Zm0 220h160v-160H400v160ZM180-400h160v-160H180v160Zm440 0h160v-160H620v160ZM180-180h160v-160H180v160Zm440 0h160v-160H620v160Z\"/>\n",
              "  </svg>\n",
              "    </button>\n",
              "\n",
              "  <style>\n",
              "    .colab-df-container {\n",
              "      display:flex;\n",
              "      gap: 12px;\n",
              "    }\n",
              "\n",
              "    .colab-df-convert {\n",
              "      background-color: #E8F0FE;\n",
              "      border: none;\n",
              "      border-radius: 50%;\n",
              "      cursor: pointer;\n",
              "      display: none;\n",
              "      fill: #1967D2;\n",
              "      height: 32px;\n",
              "      padding: 0 0 0 0;\n",
              "      width: 32px;\n",
              "    }\n",
              "\n",
              "    .colab-df-convert:hover {\n",
              "      background-color: #E2EBFA;\n",
              "      box-shadow: 0px 1px 2px rgba(60, 64, 67, 0.3), 0px 1px 3px 1px rgba(60, 64, 67, 0.15);\n",
              "      fill: #174EA6;\n",
              "    }\n",
              "\n",
              "    .colab-df-buttons div {\n",
              "      margin-bottom: 4px;\n",
              "    }\n",
              "\n",
              "    [theme=dark] .colab-df-convert {\n",
              "      background-color: #3B4455;\n",
              "      fill: #D2E3FC;\n",
              "    }\n",
              "\n",
              "    [theme=dark] .colab-df-convert:hover {\n",
              "      background-color: #434B5C;\n",
              "      box-shadow: 0px 1px 3px 1px rgba(0, 0, 0, 0.15);\n",
              "      filter: drop-shadow(0px 1px 2px rgba(0, 0, 0, 0.3));\n",
              "      fill: #FFFFFF;\n",
              "    }\n",
              "  </style>\n",
              "\n",
              "    <script>\n",
              "      const buttonEl =\n",
              "        document.querySelector('#df-c320e716-63ef-4a5e-a5fd-899f10944bab button.colab-df-convert');\n",
              "      buttonEl.style.display =\n",
              "        google.colab.kernel.accessAllowed ? 'block' : 'none';\n",
              "\n",
              "      async function convertToInteractive(key) {\n",
              "        const element = document.querySelector('#df-c320e716-63ef-4a5e-a5fd-899f10944bab');\n",
              "        const dataTable =\n",
              "          await google.colab.kernel.invokeFunction('convertToInteractive',\n",
              "                                                    [key], {});\n",
              "        if (!dataTable) return;\n",
              "\n",
              "        const docLinkHtml = 'Like what you see? Visit the ' +\n",
              "          '<a target=\"_blank\" href=https://colab.research.google.com/notebooks/data_table.ipynb>data table notebook</a>'\n",
              "          + ' to learn more about interactive tables.';\n",
              "        element.innerHTML = '';\n",
              "        dataTable['output_type'] = 'display_data';\n",
              "        await google.colab.output.renderOutput(dataTable, element);\n",
              "        const docLink = document.createElement('div');\n",
              "        docLink.innerHTML = docLinkHtml;\n",
              "        element.appendChild(docLink);\n",
              "      }\n",
              "    </script>\n",
              "  </div>\n",
              "\n",
              "\n",
              "<div id=\"df-ecd1bf8f-51af-48b5-a468-a52906c669d4\">\n",
              "  <button class=\"colab-df-quickchart\" onclick=\"quickchart('df-ecd1bf8f-51af-48b5-a468-a52906c669d4')\"\n",
              "            title=\"Suggest charts\"\n",
              "            style=\"display:none;\">\n",
              "\n",
              "<svg xmlns=\"http://www.w3.org/2000/svg\" height=\"24px\"viewBox=\"0 0 24 24\"\n",
              "     width=\"24px\">\n",
              "    <g>\n",
              "        <path d=\"M19 3H5c-1.1 0-2 .9-2 2v14c0 1.1.9 2 2 2h14c1.1 0 2-.9 2-2V5c0-1.1-.9-2-2-2zM9 17H7v-7h2v7zm4 0h-2V7h2v10zm4 0h-2v-4h2v4z\"/>\n",
              "    </g>\n",
              "</svg>\n",
              "  </button>\n",
              "\n",
              "<style>\n",
              "  .colab-df-quickchart {\n",
              "      --bg-color: #E8F0FE;\n",
              "      --fill-color: #1967D2;\n",
              "      --hover-bg-color: #E2EBFA;\n",
              "      --hover-fill-color: #174EA6;\n",
              "      --disabled-fill-color: #AAA;\n",
              "      --disabled-bg-color: #DDD;\n",
              "  }\n",
              "\n",
              "  [theme=dark] .colab-df-quickchart {\n",
              "      --bg-color: #3B4455;\n",
              "      --fill-color: #D2E3FC;\n",
              "      --hover-bg-color: #434B5C;\n",
              "      --hover-fill-color: #FFFFFF;\n",
              "      --disabled-bg-color: #3B4455;\n",
              "      --disabled-fill-color: #666;\n",
              "  }\n",
              "\n",
              "  .colab-df-quickchart {\n",
              "    background-color: var(--bg-color);\n",
              "    border: none;\n",
              "    border-radius: 50%;\n",
              "    cursor: pointer;\n",
              "    display: none;\n",
              "    fill: var(--fill-color);\n",
              "    height: 32px;\n",
              "    padding: 0;\n",
              "    width: 32px;\n",
              "  }\n",
              "\n",
              "  .colab-df-quickchart:hover {\n",
              "    background-color: var(--hover-bg-color);\n",
              "    box-shadow: 0 1px 2px rgba(60, 64, 67, 0.3), 0 1px 3px 1px rgba(60, 64, 67, 0.15);\n",
              "    fill: var(--button-hover-fill-color);\n",
              "  }\n",
              "\n",
              "  .colab-df-quickchart-complete:disabled,\n",
              "  .colab-df-quickchart-complete:disabled:hover {\n",
              "    background-color: var(--disabled-bg-color);\n",
              "    fill: var(--disabled-fill-color);\n",
              "    box-shadow: none;\n",
              "  }\n",
              "\n",
              "  .colab-df-spinner {\n",
              "    border: 2px solid var(--fill-color);\n",
              "    border-color: transparent;\n",
              "    border-bottom-color: var(--fill-color);\n",
              "    animation:\n",
              "      spin 1s steps(1) infinite;\n",
              "  }\n",
              "\n",
              "  @keyframes spin {\n",
              "    0% {\n",
              "      border-color: transparent;\n",
              "      border-bottom-color: var(--fill-color);\n",
              "      border-left-color: var(--fill-color);\n",
              "    }\n",
              "    20% {\n",
              "      border-color: transparent;\n",
              "      border-left-color: var(--fill-color);\n",
              "      border-top-color: var(--fill-color);\n",
              "    }\n",
              "    30% {\n",
              "      border-color: transparent;\n",
              "      border-left-color: var(--fill-color);\n",
              "      border-top-color: var(--fill-color);\n",
              "      border-right-color: var(--fill-color);\n",
              "    }\n",
              "    40% {\n",
              "      border-color: transparent;\n",
              "      border-right-color: var(--fill-color);\n",
              "      border-top-color: var(--fill-color);\n",
              "    }\n",
              "    60% {\n",
              "      border-color: transparent;\n",
              "      border-right-color: var(--fill-color);\n",
              "    }\n",
              "    80% {\n",
              "      border-color: transparent;\n",
              "      border-right-color: var(--fill-color);\n",
              "      border-bottom-color: var(--fill-color);\n",
              "    }\n",
              "    90% {\n",
              "      border-color: transparent;\n",
              "      border-bottom-color: var(--fill-color);\n",
              "    }\n",
              "  }\n",
              "</style>\n",
              "\n",
              "  <script>\n",
              "    async function quickchart(key) {\n",
              "      const quickchartButtonEl =\n",
              "        document.querySelector('#' + key + ' button');\n",
              "      quickchartButtonEl.disabled = true;  // To prevent multiple clicks.\n",
              "      quickchartButtonEl.classList.add('colab-df-spinner');\n",
              "      try {\n",
              "        const charts = await google.colab.kernel.invokeFunction(\n",
              "            'suggestCharts', [key], {});\n",
              "      } catch (error) {\n",
              "        console.error('Error during call to suggestCharts:', error);\n",
              "      }\n",
              "      quickchartButtonEl.classList.remove('colab-df-spinner');\n",
              "      quickchartButtonEl.classList.add('colab-df-quickchart-complete');\n",
              "    }\n",
              "    (() => {\n",
              "      let quickchartButtonEl =\n",
              "        document.querySelector('#df-ecd1bf8f-51af-48b5-a468-a52906c669d4 button');\n",
              "      quickchartButtonEl.style.display =\n",
              "        google.colab.kernel.accessAllowed ? 'block' : 'none';\n",
              "    })();\n",
              "  </script>\n",
              "</div>\n",
              "\n",
              "    </div>\n",
              "  </div>\n"
            ],
            "application/vnd.google.colaboratory.intrinsic+json": {
              "type": "dataframe",
              "variable_name": "circles",
              "summary": "{\n  \"name\": \"circles\",\n  \"rows\": 100,\n  \"fields\": [\n    {\n      \"column\": \"X1\",\n      \"properties\": {\n        \"dtype\": \"number\",\n        \"std\": 0.643120899270911,\n        \"min\": -1.0263252928849784,\n        \"max\": 1.0063741142511626,\n        \"num_unique_values\": 100,\n        \"samples\": [\n          -0.8631707334205839,\n          0.07911357398694113,\n          -0.7012770104307307\n        ],\n        \"semantic_type\": \"\",\n        \"description\": \"\"\n      }\n    },\n    {\n      \"column\": \"X2\",\n      \"properties\": {\n        \"dtype\": \"number\",\n        \"std\": 0.6436867682279922,\n        \"min\": -1.0318630935532775,\n        \"max\": 1.0128515411291759,\n        \"num_unique_values\": 100,\n        \"samples\": [\n          -0.510471690489196,\n          -0.988592582597732,\n          -0.38159096517908186\n        ],\n        \"semantic_type\": \"\",\n        \"description\": \"\"\n      }\n    },\n    {\n      \"column\": \"label\",\n      \"properties\": {\n        \"dtype\": \"number\",\n        \"std\": 0,\n        \"min\": 0,\n        \"max\": 1,\n        \"num_unique_values\": 2,\n        \"samples\": [\n          0,\n          1\n        ],\n        \"semantic_type\": \"\",\n        \"description\": \"\"\n      }\n    }\n  ]\n}"
            }
          },
          "metadata": {},
          "execution_count": 5
        }
      ]
    },
    {
      "cell_type": "code",
      "source": [
        "plt.scatter(x=X[:, 0], y=X[:, 1], c=y)"
      ],
      "metadata": {
        "colab": {
          "base_uri": "https://localhost:8080/",
          "height": 448
        },
        "id": "GJjaqDKjwj5c",
        "outputId": "0a792d4e-6499-45b3-e520-80ffb76593a2"
      },
      "execution_count": 6,
      "outputs": [
        {
          "output_type": "execute_result",
          "data": {
            "text/plain": [
              "<matplotlib.collections.PathCollection at 0x7c702fba7250>"
            ]
          },
          "metadata": {},
          "execution_count": 6
        },
        {
          "output_type": "display_data",
          "data": {
            "text/plain": [
              "<Figure size 640x480 with 1 Axes>"
            ],
            "image/png": "[encoded data removed]"
          },
          "metadata": {}
        }
      ]
    },
    {
      "cell_type": "markdown",
      "source": [
        "# Let's convert the data into tensors"
      ],
      "metadata": {
        "id": "uDcaUAf8w-g8"
      }
    },
    {
      "cell_type": "code",
      "source": [
        "X_tensor = torch.from_numpy(X)\n",
        "print(X_tensor.shape, X_tensor.dtype)"
      ],
      "metadata": {
        "colab": {
          "base_uri": "https://localhost:8080/"
        },
        "id": "_dzqnUSFxA60",
        "outputId": "043fa147-2fe8-454e-82ca-13eb0579d8f6"
      },
      "execution_count": 7,
      "outputs": [
        {
          "output_type": "stream",
          "name": "stdout",
          "text": [
            "torch.Size([100, 2]) torch.float64\n"
          ]
        }
      ]
    },
    {
      "cell_type": "code",
      "source": [
        "X_tensor = torch.from_numpy(X).type(torch.float)\n",
        "y_tensor = torch.from_numpy(y)\n",
        "print(X_tensor.shape, X_tensor.dtype)\n",
        "print(y_tensor.shape, y_tensor.dtype)\n"
      ],
      "metadata": {
        "colab": {
          "base_uri": "https://localhost:8080/"
        },
        "id": "C-4oCvxFxPok",
        "outputId": "82a2f1aa-e6de-4511-d96e-4654c0adfba8"
      },
      "execution_count": 8,
      "outputs": [
        {
          "output_type": "stream",
          "name": "stdout",
          "text": [
            "torch.Size([100, 2]) torch.float32\n",
            "torch.Size([100]) torch.int64\n"
          ]
        }
      ]
    },
    {
      "cell_type": "code",
      "source": [
        "X_tensor = torch.from_numpy(X).type(torch.float).to(device)\n",
        "y_tensor = torch.from_numpy(y).type(torch.float).to(device)\n",
        "print(X_tensor.shape, X_tensor.dtype, X_tensor.device)\n",
        "print(y_tensor.shape, y_tensor.dtype, y_tensor.device)\n"
      ],
      "metadata": {
        "colab": {
          "base_uri": "https://localhost:8080/"
        },
        "id": "IQEyEyktxeVN",
        "outputId": "711c095c-d0b4-4bbd-9bd9-1153d6161822"
      },
      "execution_count": 9,
      "outputs": [
        {
          "output_type": "stream",
          "name": "stdout",
          "text": [
            "torch.Size([100, 2]) torch.float32 cpu\n",
            "torch.Size([100]) torch.float32 cpu\n"
          ]
        }
      ]
    },
    {
      "cell_type": "code",
      "source": [
        "print(len(X_tensor), X_tensor.shape)\n",
        "print(len(y_tensor), y_tensor.shape)"
      ],
      "metadata": {
        "colab": {
          "base_uri": "https://localhost:8080/"
        },
        "id": "sZ1Mm5gExwis",
        "outputId": "c798d853-f466-4da0-b685-55226961563b"
      },
      "execution_count": 10,
      "outputs": [
        {
          "output_type": "stream",
          "name": "stdout",
          "text": [
            "100 torch.Size([100, 2])\n",
            "100 torch.Size([100])\n"
          ]
        }
      ]
    },
    {
      "cell_type": "markdown",
      "source": [
        "# Create train/test split"
      ],
      "metadata": {
        "id": "4dTo5uuHxqu9"
      }
    },
    {
      "cell_type": "code",
      "source": [
        "from sklearn.model_selection import train_test_split\n",
        "X_train, X_test, y_train, y_test = train_test_split(X_tensor, y_tensor, test_size=0.2, random_state=42)\n",
        "print(len(X_train), len(X_test), len(y_train), len(y_test))"
      ],
      "metadata": {
        "colab": {
          "base_uri": "https://localhost:8080/"
        },
        "id": "EEM_eq6Cxudt",
        "outputId": "55673cc9-b2f0-4881-81a0-6c1ddea1a579"
      },
      "execution_count": 11,
      "outputs": [
        {
          "output_type": "stream",
          "name": "stdout",
          "text": [
            "80 20 80 20\n"
          ]
        }
      ]
    },
    {
      "cell_type": "markdown",
      "source": [
        "# Plot the training dataset"
      ],
      "metadata": {
        "id": "cnZ8KD3dyCTk"
      }
    },
    {
      "cell_type": "code",
      "source": [
        "plt.scatter(x=X_train[:, 0], y=X_train[:, 1], c=y_train)"
      ],
      "metadata": {
        "colab": {
          "base_uri": "https://localhost:8080/",
          "height": 448
        },
        "id": "0xQ3RQzLyEKt",
        "outputId": "27233409-29ac-42af-934f-d51ee3dca65e"
      },
      "execution_count": 12,
      "outputs": [
        {
          "output_type": "execute_result",
          "data": {
            "text/plain": [
              "<matplotlib.collections.PathCollection at 0x7c702d9c7d60>"
            ]
          },
          "metadata": {},
          "execution_count": 12
        },
        {
          "output_type": "display_data",
          "data": {
            "text/plain": [
              "<Figure size 640x480 with 1 Axes>"
            ],
            "image/png": "[encoded data removed]"
          },
          "metadata": {}
        }
      ]
    },
    {
      "cell_type": "markdown",
      "source": [
        "# Plot test data points"
      ],
      "metadata": {
        "id": "rpK4EBNYyVLM"
      }
    },
    {
      "cell_type": "code",
      "source": [
        "plt.scatter(x=X_test[:, 0], y=X_test[:, 1], c=y_test)"
      ],
      "metadata": {
        "colab": {
          "base_uri": "https://localhost:8080/",
          "height": 448
        },
        "id": "zGwkrlQmyOP0",
        "outputId": "3f68453d-5a64-4740-f7a0-adedc8bc04eb"
      },
      "execution_count": 13,
      "outputs": [
        {
          "output_type": "execute_result",
          "data": {
            "text/plain": [
              "<matplotlib.collections.PathCollection at 0x7c702d594850>"
            ]
          },
          "metadata": {},
          "execution_count": 13
        },
        {
          "output_type": "display_data",
          "data": {
            "text/plain": [
              "<Figure size 640x480 with 1 Axes>"
            ],
            "image/png": "[encoded data removed]"
          },
          "metadata": {}
        }
      ]
    },
    {
      "cell_type": "markdown",
      "source": [
        "# Write the neural network architecture"
      ],
      "metadata": {
        "id": "XEjerzh1ybTk"
      }
    },
    {
      "cell_type": "code",
      "source": [
        "class CircleNeuralNetwork(nn.Module):\n",
        "  def __init__(self):\n",
        "    super().__init__()\n",
        "    self.layer = nn.Sequential(nn.Linear(in_features=2, out_features=10),\n",
        "                               nn.ReLU(),\n",
        "                               nn.Linear(in_features=10, out_features=20),\n",
        "                               nn.ReLU(),\n",
        "                               nn.Linear(in_features=20, out_features=20),\n",
        "                               nn.ReLU(),\n",
        "                               nn.Linear(in_features=20, out_features=1)\n",
        "                               )\n",
        "\n",
        "  def forward(self, x):\n",
        "    return self.layer(x)\n",
        "\n",
        "\n",
        "model = CircleNeuralNetwork()\n",
        "model.state_dict()"
      ],
      "metadata": {
        "colab": {
          "base_uri": "https://localhost:8080/"
        },
        "id": "dkMb3VlSye48",
        "outputId": "ea7f7fed-97a3-4e32-d85b-c2d1f5f96538"
      },
      "execution_count": 14,
      "outputs": [
        {
          "output_type": "execute_result",
          "data": {
            "text/plain": [
              "OrderedDict([('layer.0.weight',\n",
              "              tensor([[ 0.3068,  0.0466],\n",
              "                      [-0.5082, -0.6477],\n",
              "                      [-0.6326,  0.3761],\n",
              "                      [-0.6685,  0.2601],\n",
              "                      [-0.3015,  0.3582],\n",
              "                      [-0.2818,  0.1487],\n",
              "                      [-0.1366,  0.6541],\n",
              "                      [-0.1141,  0.6438],\n",
              "                      [ 0.4043, -0.1373],\n",
              "                      [ 0.2846,  0.2912]])),\n",
              "             ('layer.0.bias',\n",
              "              tensor([ 0.6103, -0.4466, -0.0860, -0.3676,  0.4621,  0.4309,  0.5595,  0.4231,\n",
              "                      -0.6841, -0.5131])),\n",
              "             ('layer.2.weight',\n",
              "              tensor([[ 0.1497,  0.0823, -0.2064, -0.1272, -0.1830,  0.0040, -0.2845, -0.1723,\n",
              "                        0.1659,  0.2913],\n",
              "                      [ 0.0114, -0.0908,  0.2207,  0.2460,  0.1062, -0.0288,  0.0302, -0.2840,\n",
              "                        0.0135,  0.0383],\n",
              "                      [-0.2135, -0.1651, -0.0417,  0.0495,  0.2105,  0.2766, -0.0494, -0.2744,\n",
              "                        0.1067,  0.2648],\n",
              "                      [ 0.2749,  0.1528,  0.1105,  0.2986,  0.2929,  0.2261,  0.1739, -0.0472,\n",
              "                        0.2651,  0.0686],\n",
              "                      [-0.1527, -0.1683, -0.0396, -0.2865, -0.1766,  0.1268, -0.1836,  0.1727,\n",
              "                       -0.2821, -0.2262],\n",
              "                      [-0.2298, -0.0180, -0.1266,  0.0705, -0.0225, -0.1075, -0.0701, -0.0655,\n",
              "                       -0.0011, -0.1170],\n",
              "                      [ 0.2106, -0.0291, -0.1941,  0.2610,  0.0723,  0.2390, -0.0363, -0.0960,\n",
              "                       -0.0277,  0.0088],\n",
              "                      [-0.1987, -0.3082,  0.3115, -0.2670,  0.2194, -0.1477, -0.1977, -0.1652,\n",
              "                        0.2428,  0.1983],\n",
              "                      [-0.2138, -0.2217,  0.2208, -0.2767,  0.1735, -0.0852, -0.1050, -0.2108,\n",
              "                        0.0470,  0.1210],\n",
              "                      [-0.1950, -0.1119, -0.1242, -0.2803,  0.1888, -0.1828,  0.1906, -0.0107,\n",
              "                       -0.0466, -0.0643],\n",
              "                      [-0.0557,  0.2387, -0.2739,  0.2250,  0.1264,  0.0315, -0.2790, -0.2196,\n",
              "                        0.3032,  0.3098],\n",
              "                      [-0.2862, -0.1728, -0.3079,  0.0573,  0.1475,  0.1467, -0.2867, -0.1393,\n",
              "                        0.2976, -0.0752],\n",
              "                      [-0.1265, -0.1821, -0.1173,  0.1675,  0.2577, -0.0174,  0.1325, -0.1850,\n",
              "                       -0.3100, -0.0227],\n",
              "                      [-0.2257, -0.2439, -0.2175,  0.2337, -0.2589,  0.1293,  0.2843, -0.2549,\n",
              "                       -0.2828,  0.2633],\n",
              "                      [-0.1317,  0.0920, -0.1162, -0.1098,  0.3143,  0.1304,  0.0257,  0.2378,\n",
              "                        0.0089,  0.0693],\n",
              "                      [ 0.0248, -0.1807, -0.1174,  0.1075,  0.2289,  0.2481, -0.0642, -0.1666,\n",
              "                        0.2506,  0.1104],\n",
              "                      [ 0.3019,  0.1942,  0.2929, -0.2504,  0.0343,  0.2302,  0.0642, -0.0924,\n",
              "                        0.2317, -0.2203],\n",
              "                      [ 0.0074, -0.2446,  0.2044,  0.0098,  0.2157,  0.2043, -0.0947,  0.0601,\n",
              "                       -0.1025,  0.2517],\n",
              "                      [ 0.1734, -0.2476, -0.1629, -0.2612, -0.0129,  0.0157,  0.3013, -0.0995,\n",
              "                        0.2556,  0.2846],\n",
              "                      [-0.0213, -0.1085,  0.1908,  0.0432, -0.1843,  0.0887,  0.3113,  0.1041,\n",
              "                        0.0181,  0.0424]])),\n",
              "             ('layer.2.bias',\n",
              "              tensor([ 0.0817,  0.2199, -0.1864,  0.0965, -0.0430,  0.2308, -0.1618,  0.0515,\n",
              "                       0.2690, -0.0543, -0.2183,  0.3003, -0.3014, -0.0838,  0.2923,  0.0126,\n",
              "                       0.0959, -0.0027,  0.0917, -0.1834])),\n",
              "             ('layer.4.weight',\n",
              "              tensor([[ 1.8548e-01,  4.8170e-03, -1.6508e-01,  1.0348e-01, -9.6633e-02,\n",
              "                        1.8218e-01,  1.3533e-01, -3.2429e-02, -1.1609e-01, -1.6690e-01,\n",
              "                        1.5070e-02, -1.3736e-01, -1.3298e-01,  2.1653e-01, -9.8580e-02,\n",
              "                       -3.8731e-02,  1.4920e-01, -1.1961e-01, -4.1337e-02,  1.0301e-01],\n",
              "                      [-7.3235e-02, -1.6927e-01,  7.6230e-02,  2.2392e-02,  6.3933e-02,\n",
              "                        2.0565e-01, -9.0334e-02, -1.0522e-01, -1.9518e-01, -1.4512e-01,\n",
              "                       -7.9989e-02,  2.7116e-02,  7.9494e-03,  5.5846e-02,  8.9086e-02,\n",
              "                       -1.4748e-02, -1.9577e-01,  1.7447e-01,  4.2885e-03,  1.9317e-01],\n",
              "                      [-1.1270e-02,  1.8908e-01,  1.7149e-01, -7.9443e-02, -4.3795e-02,\n",
              "                       -7.7249e-02,  1.7320e-01, -2.6332e-02, -2.1981e-01, -2.1653e-01,\n",
              "                       -3.9156e-02,  9.0070e-02,  1.2581e-01,  1.4785e-01,  9.6032e-02,\n",
              "                       -1.0632e-01, -1.9057e-02, -2.1949e-01,  1.1129e-02,  6.2416e-02],\n",
              "                      [ 1.5971e-01, -4.0544e-02, -7.2536e-02, -3.5979e-02,  1.3417e-01,\n",
              "                        2.0945e-01, -5.3981e-03,  1.6934e-01,  1.7266e-01,  1.5593e-01,\n",
              "                        9.6751e-02, -9.9421e-02, -1.2695e-01,  1.3966e-01, -9.7558e-02,\n",
              "                       -1.3786e-01,  1.1318e-01, -1.6438e-01, -2.1821e-01, -1.2744e-01],\n",
              "                      [ 8.0292e-03, -1.9724e-01,  2.1480e-03, -1.7481e-01, -1.2504e-01,\n",
              "                       -3.5620e-02, -7.7086e-02,  1.0371e-01, -2.1686e-01, -9.4401e-02,\n",
              "                       -4.7437e-02,  1.0613e-01,  4.3460e-02, -1.7458e-01, -1.9801e-01,\n",
              "                       -1.9496e-02,  1.0094e-01,  1.2029e-01, -8.7025e-03, -9.0125e-03],\n",
              "                      [-1.6487e-01,  2.1396e-01,  2.4264e-02, -1.7827e-01,  5.0985e-02,\n",
              "                       -1.2601e-01, -1.0898e-01,  1.6651e-01,  1.0591e-01, -1.4035e-01,\n",
              "                       -1.5256e-01, -1.8551e-02,  1.2063e-01, -1.3737e-01,  1.1391e-01,\n",
              "                       -1.9246e-01,  2.2091e-01, -1.0268e-01,  1.5655e-01, -1.1841e-01],\n",
              "                      [-2.1626e-04, -7.4399e-02, -1.2584e-01, -6.7202e-02,  1.7673e-01,\n",
              "                       -2.0668e-01,  1.2345e-01, -2.0285e-01, -1.8528e-01,  1.0779e-01,\n",
              "                        1.2970e-01,  1.9021e-01,  1.9908e-01,  9.2083e-03,  4.9447e-05,\n",
              "                        1.4613e-01,  8.3077e-02,  1.5582e-01, -1.0087e-01,  1.2890e-01],\n",
              "                      [ 1.0090e-01, -8.3311e-04, -5.9149e-02,  6.0957e-02, -6.8865e-02,\n",
              "                        3.1473e-02,  3.3411e-02,  2.0539e-01,  3.7444e-02, -2.1719e-01,\n",
              "                        1.6346e-01,  1.7979e-01, -4.1684e-02,  1.0402e-01,  7.5475e-02,\n",
              "                        2.4877e-02,  1.1056e-01, -4.8706e-02, -1.2769e-01, -2.0222e-01],\n",
              "                      [ 1.8582e-01, -3.4162e-02,  2.1158e-01,  1.5288e-01,  1.9160e-01,\n",
              "                        4.0014e-02,  7.1577e-02,  1.9224e-01, -7.9147e-04,  1.0665e-01,\n",
              "                       -9.5717e-02,  3.6978e-03, -1.6597e-01, -2.1686e-01,  9.9780e-02,\n",
              "                       -2.0666e-01,  2.2520e-02,  3.6151e-02, -1.4974e-01, -2.1284e-01],\n",
              "                      [-1.0255e-01, -2.1293e-01, -1.6383e-01, -9.6493e-03, -1.0295e-01,\n",
              "                        1.0969e-01,  1.8557e-01, -6.3209e-02, -7.4719e-02, -1.0919e-01,\n",
              "                        1.7529e-01,  1.9909e-01,  8.0039e-02,  5.9182e-02,  1.3575e-01,\n",
              "                       -7.4195e-02,  7.0551e-02,  1.2595e-01,  2.1471e-01, -2.0983e-01],\n",
              "                      [ 1.3517e-01, -8.3588e-02,  9.4519e-02,  8.5331e-02,  1.3654e-01,\n",
              "                       -5.1050e-02,  2.1451e-01, -1.2623e-01,  2.0368e-01, -2.1558e-01,\n",
              "                        4.6487e-02, -3.3313e-03,  2.1542e-01,  2.1373e-01,  2.1636e-01,\n",
              "                       -2.0385e-01, -9.6792e-02, -3.0605e-02,  1.6506e-01, -1.1990e-01],\n",
              "                      [-1.4340e-01,  2.0633e-01, -1.4974e-01, -2.1226e-01, -1.0286e-01,\n",
              "                       -1.4566e-01, -2.8313e-02, -1.3194e-01, -2.4336e-02, -1.1030e-01,\n",
              "                       -1.9310e-01,  7.8617e-02, -3.7626e-02,  2.0863e-01, -1.0877e-01,\n",
              "                       -7.6718e-02,  8.0538e-02,  5.2922e-02,  9.5523e-02,  2.5187e-02],\n",
              "                      [ 1.3889e-01,  1.8936e-01,  4.2099e-02,  2.2076e-01, -6.3968e-02,\n",
              "                        1.7769e-01,  2.1207e-01, -1.8428e-01, -1.7221e-01, -1.9811e-01,\n",
              "                        5.1607e-03, -1.1571e-01,  8.2636e-02, -2.2270e-01, -4.6850e-02,\n",
              "                       -6.5802e-02, -4.5384e-02, -2.0207e-02,  1.3587e-01,  1.8470e-01],\n",
              "                      [ 6.8188e-02,  1.1793e-02,  1.3382e-01,  9.2093e-02,  1.5328e-01,\n",
              "                        1.8007e-01, -5.7063e-02, -1.9911e-01, -5.6132e-02, -1.6155e-02,\n",
              "                        1.0233e-01, -2.2270e-01, -1.6128e-01, -1.8695e-01,  5.1073e-02,\n",
              "                        1.7620e-01, -8.7574e-02,  1.7507e-01,  4.3097e-02, -4.1101e-02],\n",
              "                      [-2.1306e-01,  2.2095e-01,  4.5882e-02,  1.6232e-01, -4.9010e-02,\n",
              "                        1.0287e-01,  4.4286e-02,  3.7065e-02, -9.1793e-02, -1.9115e-01,\n",
              "                       -6.5408e-02, -1.9439e-01,  1.2879e-01, -1.7412e-01, -1.8269e-01,\n",
              "                       -1.2325e-01, -6.0170e-02,  6.0231e-02,  1.1262e-01, -4.2780e-02],\n",
              "                      [ 4.8236e-02,  1.7866e-01, -1.7164e-01, -1.4461e-01, -1.7029e-01,\n",
              "                       -2.7259e-02, -2.0253e-01, -8.0270e-02,  2.3074e-02, -2.0339e-01,\n",
              "                        2.0054e-01,  1.0323e-01,  2.0904e-01, -1.2734e-01, -1.4124e-01,\n",
              "                        2.9473e-02, -1.5584e-01, -1.6037e-01, -2.1156e-01,  9.8901e-02],\n",
              "                      [ 1.7301e-01, -1.9845e-01,  9.0461e-02, -1.8683e-01,  1.7743e-01,\n",
              "                       -9.2124e-02,  2.1134e-01,  1.9005e-01,  1.2871e-01,  1.0513e-01,\n",
              "                       -1.5929e-01, -1.9732e-01, -1.3297e-01, -1.1991e-01, -1.5864e-01,\n",
              "                       -1.1355e-01,  4.5169e-02, -2.0992e-01,  1.3652e-01,  2.2296e-01],\n",
              "                      [-1.3354e-01,  1.8238e-01,  1.9236e-01,  6.2940e-02, -1.2364e-01,\n",
              "                        3.4380e-03,  6.1791e-02, -9.8890e-02,  1.3860e-01,  2.8142e-02,\n",
              "                        2.1408e-01, -1.9179e-01, -1.6240e-01,  5.5925e-03, -1.4465e-01,\n",
              "                       -6.6483e-03, -8.5578e-02, -2.2914e-02,  5.4378e-02, -1.1677e-01],\n",
              "                      [ 1.0727e-01,  5.4648e-02,  7.3220e-02,  2.0774e-01,  5.2691e-02,\n",
              "                       -6.2536e-02, -5.8145e-02, -1.6601e-01,  8.4189e-02, -1.3585e-01,\n",
              "                        2.2072e-01,  2.0175e-01,  1.0820e-01,  4.4434e-02,  6.1977e-02,\n",
              "                       -5.0129e-02,  6.7979e-02, -2.0574e-02, -1.2840e-01,  2.7319e-02],\n",
              "                      [ 6.3728e-02, -4.0069e-03,  1.7593e-01, -8.7316e-02, -1.1848e-01,\n",
              "                       -1.5644e-02,  4.3295e-02, -9.9196e-02, -1.2573e-01,  5.6875e-02,\n",
              "                       -1.4782e-01, -1.5082e-01,  2.0048e-01,  1.9285e-01, -2.1579e-01,\n",
              "                        4.0958e-02,  1.0010e-01,  1.1053e-01,  5.9819e-02, -1.5327e-01]])),\n",
              "             ('layer.4.bias',\n",
              "              tensor([ 0.0852, -0.0977,  0.0954, -0.1390,  0.0672, -0.0250,  0.0732, -0.1783,\n",
              "                      -0.2166,  0.1241, -0.0685,  0.1986, -0.1421,  0.1932, -0.1234, -0.1045,\n",
              "                      -0.1643, -0.1901, -0.1961, -0.1293])),\n",
              "             ('layer.6.weight',\n",
              "              tensor([[ 0.1466,  0.1577, -0.1018,  0.0988, -0.1553, -0.2055,  0.1652, -0.1791,\n",
              "                        0.2131, -0.2220, -0.0546, -0.0023, -0.0120,  0.0140,  0.0104,  0.0022,\n",
              "                       -0.1656,  0.2036, -0.0285, -0.0651]])),\n",
              "             ('layer.6.bias', tensor([-0.1731]))])"
            ]
          },
          "metadata": {},
          "execution_count": 14
        }
      ]
    },
    {
      "cell_type": "code",
      "source": [
        "#this code is also good but please dont use it for eval because it might be slow\n",
        "#it will take (100, 2) and return (100, 1) shape\n",
        "untrained_preds = model(X_test)\n",
        "print(f\"input shape given {X_test.shape}\")\n",
        "print(f\"output shape is {untrained_preds.shape}\")"
      ],
      "metadata": {
        "colab": {
          "base_uri": "https://localhost:8080/"
        },
        "id": "hXJJgt1w1yQ2",
        "outputId": "97433155-3f41-49b3-88d8-21439b6f7a52"
      },
      "execution_count": 15,
      "outputs": [
        {
          "output_type": "stream",
          "name": "stdout",
          "text": [
            "input shape given torch.Size([20, 2])\n",
            "output shape is torch.Size([20, 1])\n"
          ]
        }
      ]
    },
    {
      "cell_type": "code",
      "source": [
        "#I am in evaluation stage, optimized and right way to ask for predictions from a pytorch neural network\n",
        "model.eval() #I am in eval model\n",
        "with torch.no_grad(): #Don't compute gradients\n",
        "  untrained_preds = model(X_test)\n",
        "print(X_test)\n",
        "print(f\"X test shape is {X_test.shape}\")\n",
        "print(untrained_preds)\n",
        "print(f\"y preds shape is {untrained_preds.shape}\")\n"
      ],
      "metadata": {
        "colab": {
          "base_uri": "https://localhost:8080/"
        },
        "id": "zvj4dCE-2k29",
        "outputId": "825a8a60-902b-4d3a-8f64-53e61b82fff2"
      },
      "execution_count": 16,
      "outputs": [
        {
          "output_type": "stream",
          "name": "stdout",
          "text": [
            "tensor([[-0.8632, -0.5105],\n",
            "        [ 0.0791, -0.9886],\n",
            "        [-0.7013, -0.3816],\n",
            "        [-0.7318,  0.6969],\n",
            "        [-0.9830, -0.2541],\n",
            "        [-0.4155,  0.9157],\n",
            "        [-0.9751, -0.1516],\n",
            "        [-0.0707,  0.7748],\n",
            "        [-0.6404,  0.7512],\n",
            "        [-0.4159, -0.6936],\n",
            "        [ 0.0331,  0.9934],\n",
            "        [ 0.2091,  1.0024],\n",
            "        [ 0.9753, -0.2477],\n",
            "        [-0.9230, -0.3286],\n",
            "        [ 0.3008, -0.7153],\n",
            "        [ 0.7583, -0.7070],\n",
            "        [-0.8464, -0.0054],\n",
            "        [-0.6155, -0.7772],\n",
            "        [-0.7222,  0.1785],\n",
            "        [ 0.9209, -0.3698]])\n",
            "X test shape is torch.Size([20, 2])\n",
            "tensor([[-0.2085],\n",
            "        [-0.2008],\n",
            "        [-0.2182],\n",
            "        [-0.1867],\n",
            "        [-0.1985],\n",
            "        [-0.2022],\n",
            "        [-0.1950],\n",
            "        [-0.2200],\n",
            "        [-0.1907],\n",
            "        [-0.2118],\n",
            "        [-0.2197],\n",
            "        [-0.2248],\n",
            "        [-0.2130],\n",
            "        [-0.2044],\n",
            "        [-0.2051],\n",
            "        [-0.1991],\n",
            "        [-0.1985],\n",
            "        [-0.2083],\n",
            "        [-0.2013],\n",
            "        [-0.2079]])\n",
            "y preds shape is torch.Size([20, 1])\n"
          ]
        }
      ]
    },
    {
      "cell_type": "code",
      "source": [
        "#I am in evaluation stage, optimized and right way to ask for predictions from a pytorch neural network\n",
        "model.eval() #I am in eval model\n",
        "with torch.no_grad(): #Don't compute gradients\n",
        "  untrained_preds = model(X_test)\n",
        "print(untrained_preds)\n",
        "print(f\"y preds shape is {untrained_preds.shape}\")\n",
        "print(f\"Actual y is {y_test}\")"
      ],
      "metadata": {
        "colab": {
          "base_uri": "https://localhost:8080/"
        },
        "id": "39JGECeE3jvH",
        "outputId": "8e74eee2-7201-46c6-c6a2-fcd39dd34da1"
      },
      "execution_count": 17,
      "outputs": [
        {
          "output_type": "stream",
          "name": "stdout",
          "text": [
            "tensor([[-0.2085],\n",
            "        [-0.2008],\n",
            "        [-0.2182],\n",
            "        [-0.1867],\n",
            "        [-0.1985],\n",
            "        [-0.2022],\n",
            "        [-0.1950],\n",
            "        [-0.2200],\n",
            "        [-0.1907],\n",
            "        [-0.2118],\n",
            "        [-0.2197],\n",
            "        [-0.2248],\n",
            "        [-0.2130],\n",
            "        [-0.2044],\n",
            "        [-0.2051],\n",
            "        [-0.1991],\n",
            "        [-0.1985],\n",
            "        [-0.2083],\n",
            "        [-0.2013],\n",
            "        [-0.2079]])\n",
            "y preds shape is torch.Size([20, 1])\n",
            "Actual y is tensor([0., 0., 1., 0., 0., 0., 0., 1., 0., 1., 0., 0., 0., 0., 1., 0., 1., 0.,\n",
            "        1., 0.])\n"
          ]
        }
      ]
    },
    {
      "cell_type": "markdown",
      "source": [
        "# Digression:Logits->Sigmoid->Actual prediction"
      ],
      "metadata": {
        "id": "KX1lAMAj4SYd"
      }
    },
    {
      "cell_type": "code",
      "source": [
        "model_predictions = torch.tensor([-0.58, 0.35, -0.94, 5.0, -19.0, 80.0])\n",
        "print(f\"My model's prediction also known as logits {model_predictions}\")\n",
        "sigmoid_on_predictions = torch.sigmoid(model_predictions)\n",
        "print(f\"sigmoid on top of predictions {sigmoid_on_predictions}. It gives numbers in range [0, 1]\")\n",
        "print(f\"from sigmoid to actual prediction I just round the numbers i.e. >=0.5=1 and otherwise its 0 {torch.round(sigmoid_on_predictions)}\")"
      ],
      "metadata": {
        "colab": {
          "base_uri": "https://localhost:8080/"
        },
        "id": "e_eTHD624Xmp",
        "outputId": "4a5e144d-2370-4e85-c1a2-070a0d492e29"
      },
      "execution_count": 18,
      "outputs": [
        {
          "output_type": "stream",
          "name": "stdout",
          "text": [
            "My model's prediction also known as logits tensor([ -0.5800,   0.3500,  -0.9400,   5.0000, -19.0000,  80.0000])\n",
            "sigmoid on top of predictions tensor([3.5893e-01, 5.8662e-01, 2.8090e-01, 9.9331e-01, 5.6028e-09, 1.0000e+00]). It gives numbers in range [0, 1]\n",
            "from sigmoid to actual prediction I just round the numbers i.e. >=0.5=1 and otherwise its 0 tensor([0., 1., 0., 1., 0., 1.])\n"
          ]
        }
      ]
    },
    {
      "cell_type": "markdown",
      "source": [
        "# Loss function and optimizer"
      ],
      "metadata": {
        "id": "hKAKtd8l266l"
      }
    },
    {
      "cell_type": "code",
      "source": [
        "loss_fn = nn.BCEWithLogitsLoss()\n",
        "#criterion = nn.L1Loss()\n",
        "#Stochastic gradient descent/Just memorize it because this is gradient descent algorithm to train NN\n",
        "optimizer = torch.optim.SGD(params = model.parameters(), lr=0.01)"
      ],
      "metadata": {
        "id": "fX1SCsZj28c9"
      },
      "execution_count": 19,
      "outputs": []
    },
    {
      "cell_type": "markdown",
      "source": [
        "# Training Setup"
      ],
      "metadata": {
        "id": "-fV-Zm4Q6kIF"
      }
    },
    {
      "cell_type": "code",
      "source": [
        "# print(X_train.shape)\n",
        "# print(y_train.shape)\n",
        "logits = model(X_train)\n",
        "print(f\"y train shape is {y_train.shape}\")\n",
        "print(f\"logits shape {logits.shape}\")\n",
        "print(f\"loss value {loss_fn(logits, y_train.unsqueeze(1))}\")\n",
        "# sigmoids = torch.sigmoid(logits)\n",
        "# print(f\"sigmoids shape {sigmoids.shape}\")\n"
      ],
      "metadata": {
        "colab": {
          "base_uri": "https://localhost:8080/"
        },
        "id": "iMy_9K0O7v6O",
        "outputId": "ddca1f89-3ce9-423f-b338-14fe3aec7fe2"
      },
      "execution_count": 21,
      "outputs": [
        {
          "output_type": "stream",
          "name": "stdout",
          "text": [
            "y train shape is torch.Size([80])\n",
            "logits shape torch.Size([80, 1])\n",
            "loss value 0.7107499837875366\n"
          ]
        }
      ]
    },
    {
      "cell_type": "code",
      "source": [
        "# print(X_train.shape)\n",
        "# print(y_train.shape)\n",
        "logits = model(X_train)\n",
        "print(f\"y train shape is {y_train.shape}\")\n",
        "print(f\"logits shape {logits.shape}\")\n",
        "print(f\"loss value {loss_fn(logits.squeeze(), y_train)}\")\n",
        "# sigmoids = torch.sigmoid(logits)\n",
        "# print(f\"sigmoids shape {sigmoids.shape}\")\n"
      ],
      "metadata": {
        "colab": {
          "base_uri": "https://localhost:8080/"
        },
        "id": "ADj8PXiA7522",
        "outputId": "b58686a1-3fb4-49e4-c95e-0426b7abb8da"
      },
      "execution_count": 22,
      "outputs": [
        {
          "output_type": "stream",
          "name": "stdout",
          "text": [
            "y train shape is torch.Size([80])\n",
            "logits shape torch.Size([80, 1])\n",
            "loss value 0.7107499837875366\n"
          ]
        }
      ]
    },
    {
      "cell_type": "markdown",
      "source": [
        "# Better training loop"
      ],
      "metadata": {
        "id": "wYxeo3sz-Vox"
      }
    },
    {
      "cell_type": "code",
      "source": [
        "def acc_fn(y_true, y_pred):\n",
        "  correct = torch.eq(y_true, y_pred).sum().item()\n",
        "  acc = (correct/ len(y_true))*100.0\n",
        "  return acc\n",
        "\n",
        "t1 = torch.tensor([1.0, 0.0, 0.0])\n",
        "t2 = torch.tensor([1.0, 0.0, 0.0])\n",
        "t3 = torch.tensor([0.0, 1.0, 1.0])\n",
        "print(acc_fn(t1, t2))\n",
        "print(acc_fn(t1, t3))"
      ],
      "metadata": {
        "colab": {
          "base_uri": "https://localhost:8080/"
        },
        "id": "onexz2mp_QDv",
        "outputId": "1f9977f7-5131-417e-a6ae-7579f2245b3d"
      },
      "execution_count": 23,
      "outputs": [
        {
          "output_type": "stream",
          "name": "stdout",
          "text": [
            "100.0\n",
            "0.0\n"
          ]
        }
      ]
    },
    {
      "cell_type": "code",
      "source": [
        "epochs = 20000\n",
        "\n",
        "train_loss_values = []\n",
        "test_loss_values  = []\n",
        "epoch_count       = []\n",
        "\n",
        "for epoch in range(epochs):\n",
        "  #put my model in training model\n",
        "  model.train()\n",
        "  #make predictions for my training dataset\n",
        "  logits = model(X_train).squeeze()\n",
        "  #I calculate the loss\n",
        "  training_loss = loss_fn(logits, y_train)\n",
        "  y_preds = torch.round(torch.sigmoid(logits))\n",
        "  training_acc = acc_fn(y_train, y_preds)\n",
        "\n",
        "  #make all the previous gradients to zero\n",
        "  optimizer.zero_grad()\n",
        "  #compute the gradients\n",
        "  training_loss.backward()\n",
        "  #take an optimization step\n",
        "  optimizer.step()\n",
        "\n",
        "  model.eval() #eval stage\n",
        "  with torch.no_grad():\n",
        "    test_logits = model(X_test).squeeze()\n",
        "    test_loss = loss_fn(test_logits, y_test)\n",
        "    y_preds = torch.round(torch.sigmoid(test_logits))\n",
        "    testing_acc = acc_fn(y_test, y_preds)\n",
        "\n",
        "  if epoch%10==0:\n",
        "    epoch_count.append(epoch)\n",
        "    # train_loss_values.append(training_loss)\n",
        "    # test_loss_values.append(test_loss)\n",
        "    train_loss_values.append(training_loss.detach().numpy())\n",
        "    test_loss_values.append(test_loss.detach().numpy())\n",
        "    print(f\"Epoch: {epoch} | Training Loss: {training_loss} | Training Acc: {training_acc} | Testing Loss: {test_loss} | Testing Acc: {testing_acc}\")\n"
      ],
      "metadata": {
        "colab": {
          "base_uri": "https://localhost:8080/",
          "height": 1000
        },
        "id": "9HPcQkzJ-X5I",
        "outputId": "ae05cee3-5f4e-4b65-cbf5-4e7d5b6f748c"
      },
      "execution_count": 24,
      "outputs": [
        {
          "output_type": "stream",
          "name": "stdout",
          "text": [
            "Epoch: 0 | Training Loss: 0.7107499837875366 | Training Acc: 45.0 | Testing Loss: 0.6585675477981567 | Testing Acc: 70.0\n",
            "Epoch: 10 | Training Loss: 0.709020733833313 | Training Acc: 45.0 | Testing Loss: 0.6610070466995239 | Testing Acc: 70.0\n",
            "Epoch: 20 | Training Loss: 0.7074007391929626 | Training Acc: 45.0 | Testing Loss: 0.6633855104446411 | Testing Acc: 70.0\n",
            "Epoch: 30 | Training Loss: 0.7059146165847778 | Training Acc: 45.0 | Testing Loss: 0.6656972169876099 | Testing Acc: 70.0\n",
            "Epoch: 40 | Training Loss: 0.704595685005188 | Training Acc: 45.0 | Testing Loss: 0.6679402589797974 | Testing Acc: 70.0\n",
            "Epoch: 50 | Training Loss: 0.7034098505973816 | Training Acc: 45.0 | Testing Loss: 0.6701107621192932 | Testing Acc: 70.0\n",
            "Epoch: 60 | Training Loss: 0.7023218870162964 | Training Acc: 45.0 | Testing Loss: 0.6722478866577148 | Testing Acc: 70.0\n",
            "Epoch: 70 | Training Loss: 0.701335072517395 | Training Acc: 45.0 | Testing Loss: 0.6743154525756836 | Testing Acc: 70.0\n",
            "Epoch: 80 | Training Loss: 0.7004261016845703 | Training Acc: 45.0 | Testing Loss: 0.6763368248939514 | Testing Acc: 70.0\n",
            "Epoch: 90 | Training Loss: 0.69956374168396 | Training Acc: 45.0 | Testing Loss: 0.6783159971237183 | Testing Acc: 70.0\n",
            "Epoch: 100 | Training Loss: 0.6987668871879578 | Training Acc: 45.0 | Testing Loss: 0.6802229881286621 | Testing Acc: 70.0\n",
            "Epoch: 110 | Training Loss: 0.6980515122413635 | Training Acc: 45.0 | Testing Loss: 0.6820863485336304 | Testing Acc: 70.0\n",
            "Epoch: 120 | Training Loss: 0.6973987817764282 | Training Acc: 45.0 | Testing Loss: 0.6838943362236023 | Testing Acc: 70.0\n",
            "Epoch: 130 | Training Loss: 0.6967910528182983 | Training Acc: 45.0 | Testing Loss: 0.68565833568573 | Testing Acc: 70.0\n",
            "Epoch: 140 | Training Loss: 0.6962239742279053 | Training Acc: 45.0 | Testing Loss: 0.6873877644538879 | Testing Acc: 70.0\n",
            "Epoch: 150 | Training Loss: 0.6956943869590759 | Training Acc: 45.0 | Testing Loss: 0.6890769004821777 | Testing Acc: 70.0\n",
            "Epoch: 160 | Training Loss: 0.6952047348022461 | Training Acc: 38.75 | Testing Loss: 0.6907241344451904 | Testing Acc: 60.0\n",
            "Epoch: 170 | Training Loss: 0.6947470903396606 | Training Acc: 42.5 | Testing Loss: 0.6923295259475708 | Testing Acc: 55.00000000000001\n",
            "Epoch: 180 | Training Loss: 0.6943210363388062 | Training Acc: 45.0 | Testing Loss: 0.693881630897522 | Testing Acc: 50.0\n",
            "Epoch: 190 | Training Loss: 0.6939258575439453 | Training Acc: 43.75 | Testing Loss: 0.6953790783882141 | Testing Acc: 35.0\n",
            "Epoch: 200 | Training Loss: 0.6935619115829468 | Training Acc: 50.0 | Testing Loss: 0.6968319416046143 | Testing Acc: 30.0\n",
            "Epoch: 210 | Training Loss: 0.693225085735321 | Training Acc: 57.49999999999999 | Testing Loss: 0.6982439756393433 | Testing Acc: 30.0\n",
            "Epoch: 220 | Training Loss: 0.6929144859313965 | Training Acc: 55.00000000000001 | Testing Loss: 0.6996100544929504 | Testing Acc: 30.0\n",
            "Epoch: 230 | Training Loss: 0.6926264762878418 | Training Acc: 55.00000000000001 | Testing Loss: 0.7009350657463074 | Testing Acc: 30.0\n",
            "Epoch: 240 | Training Loss: 0.6923568844795227 | Training Acc: 55.00000000000001 | Testing Loss: 0.7022258043289185 | Testing Acc: 30.0\n",
            "Epoch: 250 | Training Loss: 0.692104697227478 | Training Acc: 55.00000000000001 | Testing Loss: 0.7034807801246643 | Testing Acc: 30.0\n",
            "Epoch: 260 | Training Loss: 0.6918686628341675 | Training Acc: 55.00000000000001 | Testing Loss: 0.7047008872032166 | Testing Acc: 30.0\n",
            "Epoch: 270 | Training Loss: 0.6916476488113403 | Training Acc: 55.00000000000001 | Testing Loss: 0.7058873772621155 | Testing Acc: 30.0\n",
            "Epoch: 280 | Training Loss: 0.6914398074150085 | Training Acc: 55.00000000000001 | Testing Loss: 0.7070424556732178 | Testing Acc: 30.0\n",
            "Epoch: 290 | Training Loss: 0.6912453174591064 | Training Acc: 55.00000000000001 | Testing Loss: 0.7081649899482727 | Testing Acc: 30.0\n",
            "Epoch: 300 | Training Loss: 0.6910648941993713 | Training Acc: 55.00000000000001 | Testing Loss: 0.709252655506134 | Testing Acc: 30.0\n",
            "Epoch: 310 | Training Loss: 0.6908963918685913 | Training Acc: 55.00000000000001 | Testing Loss: 0.7103040814399719 | Testing Acc: 30.0\n",
            "Epoch: 320 | Training Loss: 0.6907394528388977 | Training Acc: 55.00000000000001 | Testing Loss: 0.7113229632377625 | Testing Acc: 30.0\n",
            "Epoch: 330 | Training Loss: 0.6905925869941711 | Training Acc: 55.00000000000001 | Testing Loss: 0.7123116254806519 | Testing Acc: 30.0\n",
            "Epoch: 340 | Training Loss: 0.690455436706543 | Training Acc: 55.00000000000001 | Testing Loss: 0.7132685780525208 | Testing Acc: 30.0\n",
            "Epoch: 350 | Training Loss: 0.6903275847434998 | Training Acc: 55.00000000000001 | Testing Loss: 0.7141969799995422 | Testing Acc: 30.0\n",
            "Epoch: 360 | Training Loss: 0.6902085542678833 | Training Acc: 55.00000000000001 | Testing Loss: 0.7150960564613342 | Testing Acc: 30.0\n",
            "Epoch: 370 | Training Loss: 0.6900972127914429 | Training Acc: 55.00000000000001 | Testing Loss: 0.7159674167633057 | Testing Acc: 30.0\n",
            "Epoch: 380 | Training Loss: 0.6899936199188232 | Training Acc: 55.00000000000001 | Testing Loss: 0.7168123126029968 | Testing Acc: 30.0\n",
            "Epoch: 390 | Training Loss: 0.6898974776268005 | Training Acc: 55.00000000000001 | Testing Loss: 0.7176285982131958 | Testing Acc: 30.0\n",
            "Epoch: 400 | Training Loss: 0.6898081302642822 | Training Acc: 55.00000000000001 | Testing Loss: 0.7184182405471802 | Testing Acc: 30.0\n",
            "Epoch: 410 | Training Loss: 0.6897246241569519 | Training Acc: 55.00000000000001 | Testing Loss: 0.7191820740699768 | Testing Acc: 30.0\n",
            "Epoch: 420 | Training Loss: 0.68964684009552 | Training Acc: 55.00000000000001 | Testing Loss: 0.7199214696884155 | Testing Acc: 30.0\n",
            "Epoch: 430 | Training Loss: 0.6895745992660522 | Training Acc: 55.00000000000001 | Testing Loss: 0.7206358313560486 | Testing Acc: 30.0\n",
            "Epoch: 440 | Training Loss: 0.6895073652267456 | Training Acc: 55.00000000000001 | Testing Loss: 0.721326470375061 | Testing Acc: 30.0\n",
            "Epoch: 450 | Training Loss: 0.6894445419311523 | Training Acc: 55.00000000000001 | Testing Loss: 0.7219944000244141 | Testing Acc: 30.0\n",
            "Epoch: 460 | Training Loss: 0.689385712146759 | Training Acc: 55.00000000000001 | Testing Loss: 0.7226408123970032 | Testing Acc: 30.0\n",
            "Epoch: 470 | Training Loss: 0.6893306374549866 | Training Acc: 55.00000000000001 | Testing Loss: 0.7232661843299866 | Testing Acc: 30.0\n",
            "Epoch: 480 | Training Loss: 0.6892789006233215 | Training Acc: 55.00000000000001 | Testing Loss: 0.7238694429397583 | Testing Acc: 30.0\n",
            "Epoch: 490 | Training Loss: 0.68923020362854 | Training Acc: 55.00000000000001 | Testing Loss: 0.7244526147842407 | Testing Acc: 30.0\n",
            "Epoch: 500 | Training Loss: 0.6891847848892212 | Training Acc: 55.00000000000001 | Testing Loss: 0.7250162363052368 | Testing Acc: 30.0\n",
            "Epoch: 510 | Training Loss: 0.689142107963562 | Training Acc: 55.00000000000001 | Testing Loss: 0.725560188293457 | Testing Acc: 30.0\n",
            "Epoch: 520 | Training Loss: 0.6891021132469177 | Training Acc: 55.00000000000001 | Testing Loss: 0.7260861396789551 | Testing Acc: 30.0\n",
            "Epoch: 530 | Training Loss: 0.6890645027160645 | Training Acc: 55.00000000000001 | Testing Loss: 0.7265937924385071 | Testing Acc: 30.0\n",
            "Epoch: 540 | Training Loss: 0.6890292763710022 | Training Acc: 55.00000000000001 | Testing Loss: 0.7270826101303101 | Testing Acc: 30.0\n",
            "Epoch: 550 | Training Loss: 0.6889962553977966 | Training Acc: 55.00000000000001 | Testing Loss: 0.727554202079773 | Testing Acc: 30.0\n",
            "Epoch: 560 | Training Loss: 0.6889651417732239 | Training Acc: 55.00000000000001 | Testing Loss: 0.728009045124054 | Testing Acc: 30.0\n",
            "Epoch: 570 | Training Loss: 0.6889358758926392 | Training Acc: 55.00000000000001 | Testing Loss: 0.7284482717514038 | Testing Acc: 30.0\n",
            "Epoch: 580 | Training Loss: 0.6889081001281738 | Training Acc: 55.00000000000001 | Testing Loss: 0.7288733720779419 | Testing Acc: 30.0\n",
            "Epoch: 590 | Training Loss: 0.6888819932937622 | Training Acc: 55.00000000000001 | Testing Loss: 0.729282796382904 | Testing Acc: 30.0\n",
            "Epoch: 600 | Training Loss: 0.6888575553894043 | Training Acc: 55.00000000000001 | Testing Loss: 0.7296815514564514 | Testing Acc: 30.0\n",
            "Epoch: 610 | Training Loss: 0.6888343691825867 | Training Acc: 55.00000000000001 | Testing Loss: 0.7300662994384766 | Testing Acc: 30.0\n",
            "Epoch: 620 | Training Loss: 0.6888126134872437 | Training Acc: 55.00000000000001 | Testing Loss: 0.7304374575614929 | Testing Acc: 30.0\n",
            "Epoch: 630 | Training Loss: 0.6887919306755066 | Training Acc: 55.00000000000001 | Testing Loss: 0.7307955622673035 | Testing Acc: 30.0\n",
            "Epoch: 640 | Training Loss: 0.6887723207473755 | Training Acc: 55.00000000000001 | Testing Loss: 0.7311410903930664 | Testing Acc: 30.0\n",
            "Epoch: 650 | Training Loss: 0.6887536644935608 | Training Acc: 55.00000000000001 | Testing Loss: 0.7314739227294922 | Testing Acc: 30.0\n",
            "Epoch: 660 | Training Loss: 0.6887356042861938 | Training Acc: 55.00000000000001 | Testing Loss: 0.7317910194396973 | Testing Acc: 30.0\n",
            "Epoch: 670 | Training Loss: 0.6887181401252747 | Training Acc: 55.00000000000001 | Testing Loss: 0.7320969104766846 | Testing Acc: 30.0\n",
            "Epoch: 680 | Training Loss: 0.6887015104293823 | Training Acc: 55.00000000000001 | Testing Loss: 0.7323919534683228 | Testing Acc: 30.0\n",
            "Epoch: 690 | Training Loss: 0.6886857151985168 | Training Acc: 55.00000000000001 | Testing Loss: 0.7326762676239014 | Testing Acc: 30.0\n",
            "Epoch: 700 | Training Loss: 0.6886705160140991 | Training Acc: 55.00000000000001 | Testing Loss: 0.7329505085945129 | Testing Acc: 30.0\n",
            "Epoch: 710 | Training Loss: 0.6886561512947083 | Training Acc: 55.00000000000001 | Testing Loss: 0.7332170605659485 | Testing Acc: 30.0\n",
            "Epoch: 720 | Training Loss: 0.6886427998542786 | Training Acc: 55.00000000000001 | Testing Loss: 0.7334759831428528 | Testing Acc: 30.0\n",
            "Epoch: 730 | Training Loss: 0.6886298656463623 | Training Acc: 55.00000000000001 | Testing Loss: 0.7337252497673035 | Testing Acc: 30.0\n",
            "Epoch: 740 | Training Loss: 0.6886175870895386 | Training Acc: 55.00000000000001 | Testing Loss: 0.7339650988578796 | Testing Acc: 30.0\n",
            "Epoch: 750 | Training Loss: 0.6886056661605835 | Training Acc: 55.00000000000001 | Testing Loss: 0.7341965436935425 | Testing Acc: 30.0\n",
            "Epoch: 760 | Training Loss: 0.688594400882721 | Training Acc: 55.00000000000001 | Testing Loss: 0.734420895576477 | Testing Acc: 30.0\n",
            "Epoch: 770 | Training Loss: 0.688583493232727 | Training Acc: 55.00000000000001 | Testing Loss: 0.7346370816230774 | Testing Acc: 30.0\n",
            "Epoch: 780 | Training Loss: 0.6885730624198914 | Training Acc: 55.00000000000001 | Testing Loss: 0.7348453402519226 | Testing Acc: 30.0\n",
            "Epoch: 790 | Training Loss: 0.6885629892349243 | Training Acc: 55.00000000000001 | Testing Loss: 0.7350459098815918 | Testing Acc: 30.0\n",
            "Epoch: 800 | Training Loss: 0.6885532736778259 | Training Acc: 55.00000000000001 | Testing Loss: 0.7352389693260193 | Testing Acc: 30.0\n",
            "Epoch: 810 | Training Loss: 0.6885437965393066 | Training Acc: 55.00000000000001 | Testing Loss: 0.735425591468811 | Testing Acc: 30.0\n",
            "Epoch: 820 | Training Loss: 0.6885346174240112 | Training Acc: 55.00000000000001 | Testing Loss: 0.7356045842170715 | Testing Acc: 30.0\n",
            "Epoch: 830 | Training Loss: 0.6885257959365845 | Training Acc: 55.00000000000001 | Testing Loss: 0.7357775568962097 | Testing Acc: 30.0\n",
            "Epoch: 840 | Training Loss: 0.6885172128677368 | Training Acc: 55.00000000000001 | Testing Loss: 0.7359439730644226 | Testing Acc: 30.0\n",
            "Epoch: 850 | Training Loss: 0.6885088086128235 | Training Acc: 55.00000000000001 | Testing Loss: 0.7361041903495789 | Testing Acc: 30.0\n",
            "Epoch: 860 | Training Loss: 0.6885005831718445 | Training Acc: 55.00000000000001 | Testing Loss: 0.7362584471702576 | Testing Acc: 30.0\n",
            "Epoch: 870 | Training Loss: 0.6884927153587341 | Training Acc: 55.00000000000001 | Testing Loss: 0.7364073991775513 | Testing Acc: 30.0\n",
            "Epoch: 880 | Training Loss: 0.6884849667549133 | Training Acc: 55.00000000000001 | Testing Loss: 0.7365500330924988 | Testing Acc: 30.0\n",
            "Epoch: 890 | Training Loss: 0.6884773969650269 | Training Acc: 55.00000000000001 | Testing Loss: 0.7366880178451538 | Testing Acc: 30.0\n",
            "Epoch: 900 | Training Loss: 0.6884700059890747 | Training Acc: 55.00000000000001 | Testing Loss: 0.7368201017379761 | Testing Acc: 30.0\n",
            "Epoch: 910 | Training Loss: 0.6884627938270569 | Training Acc: 55.00000000000001 | Testing Loss: 0.736947774887085 | Testing Acc: 30.0\n",
            "Epoch: 920 | Training Loss: 0.6884555816650391 | Training Acc: 55.00000000000001 | Testing Loss: 0.7370705604553223 | Testing Acc: 30.0\n",
            "Epoch: 930 | Training Loss: 0.6884487271308899 | Training Acc: 55.00000000000001 | Testing Loss: 0.7371886372566223 | Testing Acc: 30.0\n",
            "Epoch: 940 | Training Loss: 0.688441812992096 | Training Acc: 55.00000000000001 | Testing Loss: 0.7373021841049194 | Testing Acc: 30.0\n",
            "Epoch: 950 | Training Loss: 0.6884351372718811 | Training Acc: 55.00000000000001 | Testing Loss: 0.7374112606048584 | Testing Acc: 30.0\n",
            "Epoch: 960 | Training Loss: 0.6884285807609558 | Training Acc: 55.00000000000001 | Testing Loss: 0.7375167012214661 | Testing Acc: 30.0\n",
            "Epoch: 970 | Training Loss: 0.6884220838546753 | Training Acc: 55.00000000000001 | Testing Loss: 0.7376178503036499 | Testing Acc: 30.0\n",
            "Epoch: 980 | Training Loss: 0.6884157657623291 | Training Acc: 55.00000000000001 | Testing Loss: 0.7377158403396606 | Testing Acc: 30.0\n",
            "Epoch: 990 | Training Loss: 0.6884095072746277 | Training Acc: 55.00000000000001 | Testing Loss: 0.737809419631958 | Testing Acc: 30.0\n",
            "Epoch: 1000 | Training Loss: 0.6884032487869263 | Training Acc: 55.00000000000001 | Testing Loss: 0.737899899482727 | Testing Acc: 30.0\n",
            "Epoch: 1010 | Training Loss: 0.6883970499038696 | Training Acc: 55.00000000000001 | Testing Loss: 0.7379862070083618 | Testing Acc: 30.0\n",
            "Epoch: 1020 | Training Loss: 0.6883910894393921 | Training Acc: 55.00000000000001 | Testing Loss: 0.7380698323249817 | Testing Acc: 30.0\n",
            "Epoch: 1030 | Training Loss: 0.6883851289749146 | Training Acc: 55.00000000000001 | Testing Loss: 0.7381500005722046 | Testing Acc: 30.0\n",
            "Epoch: 1040 | Training Loss: 0.688379168510437 | Training Acc: 55.00000000000001 | Testing Loss: 0.7382265329360962 | Testing Acc: 30.0\n",
            "Epoch: 1050 | Training Loss: 0.6883732676506042 | Training Acc: 55.00000000000001 | Testing Loss: 0.738300621509552 | Testing Acc: 30.0\n",
            "Epoch: 1060 | Training Loss: 0.6883672475814819 | Training Acc: 55.00000000000001 | Testing Loss: 0.7383691668510437 | Testing Acc: 30.0\n",
            "Epoch: 1070 | Training Loss: 0.6883610486984253 | Training Acc: 55.00000000000001 | Testing Loss: 0.738433837890625 | Testing Acc: 30.0\n",
            "Epoch: 1080 | Training Loss: 0.6883549690246582 | Training Acc: 55.00000000000001 | Testing Loss: 0.7384980916976929 | Testing Acc: 30.0\n",
            "Epoch: 1090 | Training Loss: 0.688349187374115 | Training Acc: 55.00000000000001 | Testing Loss: 0.7385626435279846 | Testing Acc: 30.0\n",
            "Epoch: 1100 | Training Loss: 0.6883434057235718 | Training Acc: 55.00000000000001 | Testing Loss: 0.7386242151260376 | Testing Acc: 30.0\n",
            "Epoch: 1110 | Training Loss: 0.6883375644683838 | Training Acc: 55.00000000000001 | Testing Loss: 0.7386831045150757 | Testing Acc: 30.0\n",
            "Epoch: 1120 | Training Loss: 0.6883318424224854 | Training Acc: 55.00000000000001 | Testing Loss: 0.7387393712997437 | Testing Acc: 30.0\n",
            "Epoch: 1130 | Training Loss: 0.6883261799812317 | Training Acc: 55.00000000000001 | Testing Loss: 0.7387923002243042 | Testing Acc: 30.0\n",
            "Epoch: 1140 | Training Loss: 0.688320517539978 | Training Acc: 55.00000000000001 | Testing Loss: 0.7388434410095215 | Testing Acc: 30.0\n",
            "Epoch: 1150 | Training Loss: 0.6883150339126587 | Training Acc: 55.00000000000001 | Testing Loss: 0.7388921976089478 | Testing Acc: 30.0\n",
            "Epoch: 1160 | Training Loss: 0.6883095502853394 | Training Acc: 55.00000000000001 | Testing Loss: 0.7389391660690308 | Testing Acc: 30.0\n",
            "Epoch: 1170 | Training Loss: 0.6883040070533752 | Training Acc: 55.00000000000001 | Testing Loss: 0.7389839291572571 | Testing Acc: 30.0\n",
            "Epoch: 1180 | Training Loss: 0.6882985234260559 | Training Acc: 55.00000000000001 | Testing Loss: 0.7390275001525879 | Testing Acc: 30.0\n",
            "Epoch: 1190 | Training Loss: 0.6882930994033813 | Training Acc: 55.00000000000001 | Testing Loss: 0.7390685677528381 | Testing Acc: 30.0\n",
            "Epoch: 1200 | Training Loss: 0.6882875561714172 | Training Acc: 55.00000000000001 | Testing Loss: 0.7391078472137451 | Testing Acc: 30.0\n",
            "Epoch: 1210 | Training Loss: 0.6882822513580322 | Training Acc: 55.00000000000001 | Testing Loss: 0.7391460537910461 | Testing Acc: 30.0\n",
            "Epoch: 1220 | Training Loss: 0.6882768869400024 | Training Acc: 55.00000000000001 | Testing Loss: 0.7391823530197144 | Testing Acc: 30.0\n",
            "Epoch: 1230 | Training Loss: 0.6882714629173279 | Training Acc: 55.00000000000001 | Testing Loss: 0.73921799659729 | Testing Acc: 30.0\n",
            "Epoch: 1240 | Training Loss: 0.6882661581039429 | Training Acc: 55.00000000000001 | Testing Loss: 0.7392512559890747 | Testing Acc: 30.0\n",
            "Epoch: 1250 | Training Loss: 0.6882608532905579 | Training Acc: 55.00000000000001 | Testing Loss: 0.7392832040786743 | Testing Acc: 30.0\n",
            "Epoch: 1260 | Training Loss: 0.6882554888725281 | Training Acc: 55.00000000000001 | Testing Loss: 0.7393141984939575 | Testing Acc: 30.0\n",
            "Epoch: 1270 | Training Loss: 0.6882501840591431 | Training Acc: 55.00000000000001 | Testing Loss: 0.7393433451652527 | Testing Acc: 30.0\n",
            "Epoch: 1280 | Training Loss: 0.6882449388504028 | Training Acc: 55.00000000000001 | Testing Loss: 0.739371657371521 | Testing Acc: 30.0\n",
            "Epoch: 1290 | Training Loss: 0.6882396936416626 | Training Acc: 55.00000000000001 | Testing Loss: 0.7393983006477356 | Testing Acc: 30.0\n",
            "Epoch: 1300 | Training Loss: 0.6882344484329224 | Training Acc: 55.00000000000001 | Testing Loss: 0.7394241690635681 | Testing Acc: 30.0\n",
            "Epoch: 1310 | Training Loss: 0.6882292628288269 | Training Acc: 55.00000000000001 | Testing Loss: 0.7394487261772156 | Testing Acc: 30.0\n",
            "Epoch: 1320 | Training Loss: 0.6882241368293762 | Training Acc: 55.00000000000001 | Testing Loss: 0.7394727468490601 | Testing Acc: 30.0\n",
            "Epoch: 1330 | Training Loss: 0.6882190108299255 | Training Acc: 55.00000000000001 | Testing Loss: 0.739495575428009 | Testing Acc: 30.0\n",
            "Epoch: 1340 | Training Loss: 0.6882139444351196 | Training Acc: 55.00000000000001 | Testing Loss: 0.739517331123352 | Testing Acc: 30.0\n",
            "Epoch: 1350 | Training Loss: 0.6882087588310242 | Training Acc: 55.00000000000001 | Testing Loss: 0.7395380735397339 | Testing Acc: 30.0\n",
            "Epoch: 1360 | Training Loss: 0.6882038116455078 | Training Acc: 55.00000000000001 | Testing Loss: 0.7395578622817993 | Testing Acc: 30.0\n",
            "Epoch: 1370 | Training Loss: 0.6881986856460571 | Training Acc: 55.00000000000001 | Testing Loss: 0.7395766973495483 | Testing Acc: 30.0\n",
            "Epoch: 1380 | Training Loss: 0.6881936192512512 | Training Acc: 55.00000000000001 | Testing Loss: 0.739594578742981 | Testing Acc: 30.0\n",
            "Epoch: 1390 | Training Loss: 0.6881886124610901 | Training Acc: 55.00000000000001 | Testing Loss: 0.7396120429039001 | Testing Acc: 30.0\n",
            "Epoch: 1400 | Training Loss: 0.6881835460662842 | Training Acc: 55.00000000000001 | Testing Loss: 0.7396281957626343 | Testing Acc: 30.0\n",
            "Epoch: 1410 | Training Loss: 0.688178539276123 | Training Acc: 55.00000000000001 | Testing Loss: 0.7396434545516968 | Testing Acc: 30.0\n",
            "Epoch: 1420 | Training Loss: 0.6881735324859619 | Training Acc: 55.00000000000001 | Testing Loss: 0.7396579384803772 | Testing Acc: 30.0\n",
            "Epoch: 1430 | Training Loss: 0.6881684064865112 | Training Acc: 55.00000000000001 | Testing Loss: 0.7396715879440308 | Testing Acc: 30.0\n",
            "Epoch: 1440 | Training Loss: 0.6881635189056396 | Training Acc: 55.00000000000001 | Testing Loss: 0.7396851778030396 | Testing Acc: 30.0\n",
            "Epoch: 1450 | Training Loss: 0.6881584525108337 | Training Acc: 55.00000000000001 | Testing Loss: 0.7396973371505737 | Testing Acc: 30.0\n",
            "Epoch: 1460 | Training Loss: 0.6881534457206726 | Training Acc: 55.00000000000001 | Testing Loss: 0.7397089600563049 | Testing Acc: 30.0\n",
            "Epoch: 1470 | Training Loss: 0.6881484389305115 | Training Acc: 55.00000000000001 | Testing Loss: 0.739719808101654 | Testing Acc: 30.0\n",
            "Epoch: 1480 | Training Loss: 0.6881434321403503 | Training Acc: 55.00000000000001 | Testing Loss: 0.739730715751648 | Testing Acc: 30.0\n",
            "Epoch: 1490 | Training Loss: 0.688138484954834 | Training Acc: 55.00000000000001 | Testing Loss: 0.7397403120994568 | Testing Acc: 30.0\n",
            "Epoch: 1500 | Training Loss: 0.6881333589553833 | Training Acc: 55.00000000000001 | Testing Loss: 0.7397485971450806 | Testing Acc: 30.0\n",
            "Epoch: 1510 | Training Loss: 0.6881283521652222 | Training Acc: 55.00000000000001 | Testing Loss: 0.7397568821907043 | Testing Acc: 30.0\n",
            "Epoch: 1520 | Training Loss: 0.688123345375061 | Training Acc: 55.00000000000001 | Testing Loss: 0.7397640943527222 | Testing Acc: 30.0\n",
            "Epoch: 1530 | Training Loss: 0.6881183385848999 | Training Acc: 55.00000000000001 | Testing Loss: 0.7397712469100952 | Testing Acc: 30.0\n",
            "Epoch: 1540 | Training Loss: 0.688113272190094 | Training Acc: 55.00000000000001 | Testing Loss: 0.7397779226303101 | Testing Acc: 30.0\n",
            "Epoch: 1550 | Training Loss: 0.6881082057952881 | Training Acc: 55.00000000000001 | Testing Loss: 0.739783525466919 | Testing Acc: 30.0\n",
            "Epoch: 1560 | Training Loss: 0.688103199005127 | Training Acc: 55.00000000000001 | Testing Loss: 0.7397892475128174 | Testing Acc: 30.0\n",
            "Epoch: 1570 | Training Loss: 0.688098132610321 | Training Acc: 55.00000000000001 | Testing Loss: 0.7397944927215576 | Testing Acc: 30.0\n",
            "Epoch: 1580 | Training Loss: 0.6880930662155151 | Training Acc: 55.00000000000001 | Testing Loss: 0.7397986650466919 | Testing Acc: 30.0\n",
            "Epoch: 1590 | Training Loss: 0.6880881190299988 | Training Acc: 55.00000000000001 | Testing Loss: 0.73980313539505 | Testing Acc: 30.0\n",
            "Epoch: 1600 | Training Loss: 0.6880830526351929 | Training Acc: 55.00000000000001 | Testing Loss: 0.7398070693016052 | Testing Acc: 30.0\n",
            "Epoch: 1610 | Training Loss: 0.6880780458450317 | Training Acc: 55.00000000000001 | Testing Loss: 0.739810049533844 | Testing Acc: 30.0\n",
            "Epoch: 1620 | Training Loss: 0.6880729794502258 | Training Acc: 55.00000000000001 | Testing Loss: 0.7398132085800171 | Testing Acc: 30.0\n",
            "Epoch: 1630 | Training Loss: 0.6880680322647095 | Training Acc: 55.00000000000001 | Testing Loss: 0.7398160099983215 | Testing Acc: 30.0\n",
            "Epoch: 1640 | Training Loss: 0.6880629658699036 | Training Acc: 55.00000000000001 | Testing Loss: 0.7398179173469543 | Testing Acc: 30.0\n",
            "Epoch: 1650 | Training Loss: 0.6880579590797424 | Training Acc: 55.00000000000001 | Testing Loss: 0.7398198843002319 | Testing Acc: 30.0\n",
            "Epoch: 1660 | Training Loss: 0.688052773475647 | Training Acc: 55.00000000000001 | Testing Loss: 0.7398199439048767 | Testing Acc: 30.0\n",
            "Epoch: 1670 | Training Loss: 0.6880475282669067 | Training Acc: 55.00000000000001 | Testing Loss: 0.7398202419281006 | Testing Acc: 30.0\n",
            "Epoch: 1680 | Training Loss: 0.6880422830581665 | Training Acc: 55.00000000000001 | Testing Loss: 0.7398208379745483 | Testing Acc: 30.0\n",
            "Epoch: 1690 | Training Loss: 0.6880372166633606 | Training Acc: 55.00000000000001 | Testing Loss: 0.7398219704627991 | Testing Acc: 30.0\n",
            "Epoch: 1700 | Training Loss: 0.6880320906639099 | Training Acc: 55.00000000000001 | Testing Loss: 0.7398227453231812 | Testing Acc: 30.0\n",
            "Epoch: 1710 | Training Loss: 0.688027024269104 | Training Acc: 55.00000000000001 | Testing Loss: 0.7398227453231812 | Testing Acc: 30.0\n",
            "Epoch: 1720 | Training Loss: 0.6880220174789429 | Training Acc: 55.00000000000001 | Testing Loss: 0.7398224472999573 | Testing Acc: 30.0\n",
            "Epoch: 1730 | Training Loss: 0.6880168318748474 | Training Acc: 55.00000000000001 | Testing Loss: 0.73982173204422 | Testing Acc: 30.0\n",
            "Epoch: 1740 | Training Loss: 0.6880118250846863 | Training Acc: 55.00000000000001 | Testing Loss: 0.7398210763931274 | Testing Acc: 30.0\n",
            "Epoch: 1750 | Training Loss: 0.6880067586898804 | Training Acc: 55.00000000000001 | Testing Loss: 0.7398209571838379 | Testing Acc: 30.0\n",
            "Epoch: 1760 | Training Loss: 0.6880017518997192 | Training Acc: 55.00000000000001 | Testing Loss: 0.739820659160614 | Testing Acc: 30.0\n",
            "Epoch: 1770 | Training Loss: 0.6879966855049133 | Training Acc: 55.00000000000001 | Testing Loss: 0.7398200035095215 | Testing Acc: 30.0\n",
            "Epoch: 1780 | Training Loss: 0.6879916191101074 | Training Acc: 55.00000000000001 | Testing Loss: 0.7398191094398499 | Testing Acc: 30.0\n",
            "Epoch: 1790 | Training Loss: 0.6879865527153015 | Training Acc: 55.00000000000001 | Testing Loss: 0.739817202091217 | Testing Acc: 30.0\n",
            "Epoch: 1800 | Training Loss: 0.6879815459251404 | Training Acc: 55.00000000000001 | Testing Loss: 0.7398156523704529 | Testing Acc: 30.0\n",
            "Epoch: 1810 | Training Loss: 0.6879765391349792 | Training Acc: 55.00000000000001 | Testing Loss: 0.7398142218589783 | Testing Acc: 30.0\n",
            "Epoch: 1820 | Training Loss: 0.6879715323448181 | Training Acc: 55.00000000000001 | Testing Loss: 0.7398122549057007 | Testing Acc: 30.0\n",
            "Epoch: 1830 | Training Loss: 0.6879664063453674 | Training Acc: 55.00000000000001 | Testing Loss: 0.7398101687431335 | Testing Acc: 30.0\n",
            "Epoch: 1840 | Training Loss: 0.6879614591598511 | Training Acc: 55.00000000000001 | Testing Loss: 0.7398085594177246 | Testing Acc: 30.0\n",
            "Epoch: 1850 | Training Loss: 0.6879566311836243 | Training Acc: 55.00000000000001 | Testing Loss: 0.7398070096969604 | Testing Acc: 30.0\n",
            "Epoch: 1860 | Training Loss: 0.6879516243934631 | Training Acc: 55.00000000000001 | Testing Loss: 0.7398049831390381 | Testing Acc: 30.0\n",
            "Epoch: 1870 | Training Loss: 0.6879466772079468 | Training Acc: 55.00000000000001 | Testing Loss: 0.7398027181625366 | Testing Acc: 30.0\n",
            "Epoch: 1880 | Training Loss: 0.6879416704177856 | Training Acc: 55.00000000000001 | Testing Loss: 0.7398005723953247 | Testing Acc: 30.0\n",
            "Epoch: 1890 | Training Loss: 0.6879369020462036 | Training Acc: 55.00000000000001 | Testing Loss: 0.7397979497909546 | Testing Acc: 30.0\n",
            "Epoch: 1900 | Training Loss: 0.6879318952560425 | Training Acc: 55.00000000000001 | Testing Loss: 0.7397953271865845 | Testing Acc: 30.0\n",
            "Epoch: 1910 | Training Loss: 0.6879270076751709 | Training Acc: 55.00000000000001 | Testing Loss: 0.7397925853729248 | Testing Acc: 30.0\n",
            "Epoch: 1920 | Training Loss: 0.6879220604896545 | Training Acc: 55.00000000000001 | Testing Loss: 0.7397895455360413 | Testing Acc: 30.0\n",
            "Epoch: 1930 | Training Loss: 0.6879171133041382 | Training Acc: 55.00000000000001 | Testing Loss: 0.7397856116294861 | Testing Acc: 30.0\n",
            "Epoch: 1940 | Training Loss: 0.6879121661186218 | Training Acc: 55.00000000000001 | Testing Loss: 0.7397825717926025 | Testing Acc: 30.0\n",
            "Epoch: 1950 | Training Loss: 0.687907338142395 | Training Acc: 55.00000000000001 | Testing Loss: 0.7397795915603638 | Testing Acc: 30.0\n",
            "Epoch: 1960 | Training Loss: 0.6879024505615234 | Training Acc: 55.00000000000001 | Testing Loss: 0.7397767305374146 | Testing Acc: 30.0\n",
            "Epoch: 1970 | Training Loss: 0.6878975033760071 | Training Acc: 55.00000000000001 | Testing Loss: 0.7397734522819519 | Testing Acc: 30.0\n",
            "Epoch: 1980 | Training Loss: 0.6878925561904907 | Training Acc: 55.00000000000001 | Testing Loss: 0.7397699356079102 | Testing Acc: 30.0\n",
            "Epoch: 1990 | Training Loss: 0.6878877282142639 | Training Acc: 55.00000000000001 | Testing Loss: 0.7397668957710266 | Testing Acc: 30.0\n",
            "Epoch: 2000 | Training Loss: 0.6878828406333923 | Training Acc: 55.00000000000001 | Testing Loss: 0.7397638559341431 | Testing Acc: 30.0\n",
            "Epoch: 2010 | Training Loss: 0.6878779530525208 | Training Acc: 55.00000000000001 | Testing Loss: 0.7397610545158386 | Testing Acc: 30.0\n",
            "Epoch: 2020 | Training Loss: 0.6878730654716492 | Training Acc: 55.00000000000001 | Testing Loss: 0.7397571802139282 | Testing Acc: 30.0\n",
            "Epoch: 2030 | Training Loss: 0.6878682374954224 | Training Acc: 55.00000000000001 | Testing Loss: 0.7397538423538208 | Testing Acc: 30.0\n",
            "Epoch: 2040 | Training Loss: 0.6878633499145508 | Training Acc: 55.00000000000001 | Testing Loss: 0.7397502064704895 | Testing Acc: 30.0\n",
            "Epoch: 2050 | Training Loss: 0.6878584623336792 | Training Acc: 55.00000000000001 | Testing Loss: 0.7397462129592896 | Testing Acc: 30.0\n",
            "Epoch: 2060 | Training Loss: 0.6878536343574524 | Training Acc: 55.00000000000001 | Testing Loss: 0.7397421598434448 | Testing Acc: 30.0\n",
            "Epoch: 2070 | Training Loss: 0.687848687171936 | Training Acc: 55.00000000000001 | Testing Loss: 0.7397383451461792 | Testing Acc: 30.0\n",
            "Epoch: 2080 | Training Loss: 0.6878437995910645 | Training Acc: 55.00000000000001 | Testing Loss: 0.7397344708442688 | Testing Acc: 30.0\n",
            "Epoch: 2090 | Training Loss: 0.6878389120101929 | Training Acc: 55.00000000000001 | Testing Loss: 0.739729642868042 | Testing Acc: 30.0\n",
            "Epoch: 2100 | Training Loss: 0.6878340840339661 | Training Acc: 55.00000000000001 | Testing Loss: 0.7397255301475525 | Testing Acc: 30.0\n",
            "Epoch: 2110 | Training Loss: 0.6878291368484497 | Training Acc: 55.00000000000001 | Testing Loss: 0.7397210001945496 | Testing Acc: 30.0\n",
            "Epoch: 2120 | Training Loss: 0.6878243088722229 | Training Acc: 55.00000000000001 | Testing Loss: 0.7397165894508362 | Testing Acc: 30.0\n",
            "Epoch: 2130 | Training Loss: 0.6878193616867065 | Training Acc: 55.00000000000001 | Testing Loss: 0.7397114634513855 | Testing Acc: 30.0\n",
            "Epoch: 2140 | Training Loss: 0.6878145933151245 | Training Acc: 55.00000000000001 | Testing Loss: 0.7397065758705139 | Testing Acc: 30.0\n",
            "Epoch: 2150 | Training Loss: 0.6878096461296082 | Training Acc: 55.00000000000001 | Testing Loss: 0.7397018074989319 | Testing Acc: 30.0\n",
            "Epoch: 2160 | Training Loss: 0.6878048181533813 | Training Acc: 55.00000000000001 | Testing Loss: 0.7396969795227051 | Testing Acc: 30.0\n",
            "Epoch: 2170 | Training Loss: 0.6877999305725098 | Training Acc: 55.00000000000001 | Testing Loss: 0.7396911978721619 | Testing Acc: 30.0\n",
            "Epoch: 2180 | Training Loss: 0.6877950429916382 | Training Acc: 55.00000000000001 | Testing Loss: 0.7396872043609619 | Testing Acc: 30.0\n",
            "Epoch: 2190 | Training Loss: 0.6877902150154114 | Training Acc: 55.00000000000001 | Testing Loss: 0.7396827936172485 | Testing Acc: 30.0\n",
            "Epoch: 2200 | Training Loss: 0.6877853870391846 | Training Acc: 55.00000000000001 | Testing Loss: 0.7396785616874695 | Testing Acc: 30.0\n",
            "Epoch: 2210 | Training Loss: 0.687780499458313 | Training Acc: 55.00000000000001 | Testing Loss: 0.7396742701530457 | Testing Acc: 30.0\n",
            "Epoch: 2220 | Training Loss: 0.6877756118774414 | Training Acc: 55.00000000000001 | Testing Loss: 0.7396699786186218 | Testing Acc: 30.0\n",
            "Epoch: 2230 | Training Loss: 0.6877707839012146 | Training Acc: 55.00000000000001 | Testing Loss: 0.7396652698516846 | Testing Acc: 30.0\n",
            "Epoch: 2240 | Training Loss: 0.687765896320343 | Training Acc: 55.00000000000001 | Testing Loss: 0.7396599650382996 | Testing Acc: 30.0\n",
            "Epoch: 2250 | Training Loss: 0.6877610683441162 | Training Acc: 55.00000000000001 | Testing Loss: 0.7396552562713623 | Testing Acc: 30.0\n",
            "Epoch: 2260 | Training Loss: 0.6877562403678894 | Training Acc: 55.00000000000001 | Testing Loss: 0.7396506667137146 | Testing Acc: 30.0\n",
            "Epoch: 2270 | Training Loss: 0.6877514123916626 | Training Acc: 55.00000000000001 | Testing Loss: 0.7396456599235535 | Testing Acc: 30.0\n",
            "Epoch: 2280 | Training Loss: 0.6877465844154358 | Training Acc: 55.00000000000001 | Testing Loss: 0.7396405339241028 | Testing Acc: 30.0\n",
            "Epoch: 2290 | Training Loss: 0.6877416968345642 | Training Acc: 55.00000000000001 | Testing Loss: 0.7396352887153625 | Testing Acc: 30.0\n",
            "Epoch: 2300 | Training Loss: 0.687736988067627 | Training Acc: 55.00000000000001 | Testing Loss: 0.7396299242973328 | Testing Acc: 30.0\n",
            "Epoch: 2310 | Training Loss: 0.6877321004867554 | Training Acc: 55.00000000000001 | Testing Loss: 0.7396239042282104 | Testing Acc: 30.0\n",
            "Epoch: 2320 | Training Loss: 0.6877272725105286 | Training Acc: 55.00000000000001 | Testing Loss: 0.7396183609962463 | Testing Acc: 30.0\n",
            "Epoch: 2330 | Training Loss: 0.6877225041389465 | Training Acc: 55.00000000000001 | Testing Loss: 0.7396128177642822 | Testing Acc: 30.0\n",
            "Epoch: 2340 | Training Loss: 0.6877176761627197 | Training Acc: 55.00000000000001 | Testing Loss: 0.7396073341369629 | Testing Acc: 30.0\n",
            "Epoch: 2350 | Training Loss: 0.6877128481864929 | Training Acc: 55.00000000000001 | Testing Loss: 0.739601731300354 | Testing Acc: 30.0\n",
            "Epoch: 2360 | Training Loss: 0.6877080202102661 | Training Acc: 55.00000000000001 | Testing Loss: 0.7395961284637451 | Testing Acc: 30.0\n",
            "Epoch: 2370 | Training Loss: 0.6877032518386841 | Training Acc: 55.00000000000001 | Testing Loss: 0.739590048789978 | Testing Acc: 30.0\n",
            "Epoch: 2380 | Training Loss: 0.6876984238624573 | Training Acc: 55.00000000000001 | Testing Loss: 0.7395843863487244 | Testing Acc: 30.0\n",
            "Epoch: 2390 | Training Loss: 0.6876935958862305 | Training Acc: 55.00000000000001 | Testing Loss: 0.7395780682563782 | Testing Acc: 30.0\n",
            "Epoch: 2400 | Training Loss: 0.6876887083053589 | Training Acc: 55.00000000000001 | Testing Loss: 0.7395722270011902 | Testing Acc: 30.0\n",
            "Epoch: 2410 | Training Loss: 0.6876838803291321 | Training Acc: 55.00000000000001 | Testing Loss: 0.7395663261413574 | Testing Acc: 30.0\n",
            "Epoch: 2420 | Training Loss: 0.68767911195755 | Training Acc: 55.00000000000001 | Testing Loss: 0.7395600080490112 | Testing Acc: 30.0\n",
            "Epoch: 2430 | Training Loss: 0.6876742839813232 | Training Acc: 55.00000000000001 | Testing Loss: 0.7395541071891785 | Testing Acc: 30.0\n",
            "Epoch: 2440 | Training Loss: 0.6876693964004517 | Training Acc: 55.00000000000001 | Testing Loss: 0.7395480871200562 | Testing Acc: 30.0\n",
            "Epoch: 2450 | Training Loss: 0.6876646280288696 | Training Acc: 55.00000000000001 | Testing Loss: 0.7395420074462891 | Testing Acc: 30.0\n",
            "Epoch: 2460 | Training Loss: 0.6876596808433533 | Training Acc: 55.00000000000001 | Testing Loss: 0.7395358681678772 | Testing Acc: 30.0\n",
            "Epoch: 2470 | Training Loss: 0.6876549124717712 | Training Acc: 55.00000000000001 | Testing Loss: 0.7395294904708862 | Testing Acc: 30.0\n",
            "Epoch: 2480 | Training Loss: 0.6876500844955444 | Training Acc: 55.00000000000001 | Testing Loss: 0.7395233511924744 | Testing Acc: 30.0\n",
            "Epoch: 2490 | Training Loss: 0.6876452565193176 | Training Acc: 55.00000000000001 | Testing Loss: 0.739517092704773 | Testing Acc: 30.0\n",
            "Epoch: 2500 | Training Loss: 0.687640368938446 | Training Acc: 55.00000000000001 | Testing Loss: 0.7395108938217163 | Testing Acc: 30.0\n",
            "Epoch: 2510 | Training Loss: 0.687635600566864 | Training Acc: 55.00000000000001 | Testing Loss: 0.7395046353340149 | Testing Acc: 30.0\n",
            "Epoch: 2520 | Training Loss: 0.6876306533813477 | Training Acc: 55.00000000000001 | Testing Loss: 0.7394983172416687 | Testing Acc: 30.0\n",
            "Epoch: 2530 | Training Loss: 0.6876258850097656 | Training Acc: 55.00000000000001 | Testing Loss: 0.7394916415214539 | Testing Acc: 30.0\n",
            "Epoch: 2540 | Training Loss: 0.687620997428894 | Training Acc: 55.00000000000001 | Testing Loss: 0.7394847869873047 | Testing Acc: 30.0\n",
            "Epoch: 2550 | Training Loss: 0.6876161694526672 | Training Acc: 55.00000000000001 | Testing Loss: 0.7394784688949585 | Testing Acc: 30.0\n",
            "Epoch: 2560 | Training Loss: 0.6876112818717957 | Training Acc: 55.00000000000001 | Testing Loss: 0.7394720315933228 | Testing Acc: 30.0\n",
            "Epoch: 2570 | Training Loss: 0.6876064538955688 | Training Acc: 55.00000000000001 | Testing Loss: 0.739465594291687 | Testing Acc: 30.0\n",
            "Epoch: 2580 | Training Loss: 0.687601625919342 | Training Acc: 55.00000000000001 | Testing Loss: 0.7394590377807617 | Testing Acc: 30.0\n",
            "Epoch: 2590 | Training Loss: 0.6875967979431152 | Training Acc: 55.00000000000001 | Testing Loss: 0.739452600479126 | Testing Acc: 30.0\n",
            "Epoch: 2600 | Training Loss: 0.6875919103622437 | Training Acc: 55.00000000000001 | Testing Loss: 0.7394460439682007 | Testing Acc: 30.0\n",
            "Epoch: 2610 | Training Loss: 0.6875870227813721 | Training Acc: 55.00000000000001 | Testing Loss: 0.7394391894340515 | Testing Acc: 30.0\n",
            "Epoch: 2620 | Training Loss: 0.6875821352005005 | Training Acc: 55.00000000000001 | Testing Loss: 0.739432692527771 | Testing Acc: 30.0\n",
            "Epoch: 2630 | Training Loss: 0.6875773668289185 | Training Acc: 55.00000000000001 | Testing Loss: 0.7394259572029114 | Testing Acc: 30.0\n",
            "Epoch: 2640 | Training Loss: 0.6875724196434021 | Training Acc: 55.00000000000001 | Testing Loss: 0.7394192218780518 | Testing Acc: 30.0\n",
            "Epoch: 2650 | Training Loss: 0.6875675916671753 | Training Acc: 55.00000000000001 | Testing Loss: 0.7394126653671265 | Testing Acc: 30.0\n",
            "Epoch: 2660 | Training Loss: 0.6875626444816589 | Training Acc: 55.00000000000001 | Testing Loss: 0.7394059896469116 | Testing Acc: 30.0\n",
            "Epoch: 2670 | Training Loss: 0.6875578165054321 | Training Acc: 55.00000000000001 | Testing Loss: 0.7393991947174072 | Testing Acc: 30.0\n",
            "Epoch: 2680 | Training Loss: 0.6875529885292053 | Training Acc: 55.00000000000001 | Testing Loss: 0.7393925786018372 | Testing Acc: 30.0\n",
            "Epoch: 2690 | Training Loss: 0.687548041343689 | Training Acc: 55.00000000000001 | Testing Loss: 0.7393858432769775 | Testing Acc: 30.0\n",
            "Epoch: 2700 | Training Loss: 0.6875431537628174 | Training Acc: 55.00000000000001 | Testing Loss: 0.7393796443939209 | Testing Acc: 30.0\n",
            "Epoch: 2710 | Training Loss: 0.6875382661819458 | Training Acc: 55.00000000000001 | Testing Loss: 0.7393728494644165 | Testing Acc: 30.0\n",
            "Epoch: 2720 | Training Loss: 0.6875333786010742 | Training Acc: 55.00000000000001 | Testing Loss: 0.7393655180931091 | Testing Acc: 30.0\n",
            "Epoch: 2730 | Training Loss: 0.6875284910202026 | Training Acc: 55.00000000000001 | Testing Loss: 0.7393586039543152 | Testing Acc: 30.0\n",
            "Epoch: 2740 | Training Loss: 0.6875237226486206 | Training Acc: 55.00000000000001 | Testing Loss: 0.7393516302108765 | Testing Acc: 30.0\n",
            "Epoch: 2750 | Training Loss: 0.6875187158584595 | Training Acc: 55.00000000000001 | Testing Loss: 0.7393447160720825 | Testing Acc: 30.0\n",
            "Epoch: 2760 | Training Loss: 0.6875138878822327 | Training Acc: 55.00000000000001 | Testing Loss: 0.7393378019332886 | Testing Acc: 30.0\n",
            "Epoch: 2770 | Training Loss: 0.6875089406967163 | Training Acc: 55.00000000000001 | Testing Loss: 0.7393307685852051 | Testing Acc: 30.0\n",
            "Epoch: 2780 | Training Loss: 0.6875039935112 | Training Acc: 55.00000000000001 | Testing Loss: 0.7393237948417664 | Testing Acc: 30.0\n",
            "Epoch: 2790 | Training Loss: 0.6874991655349731 | Training Acc: 55.00000000000001 | Testing Loss: 0.7393163442611694 | Testing Acc: 30.0\n",
            "Epoch: 2800 | Training Loss: 0.687494158744812 | Training Acc: 55.00000000000001 | Testing Loss: 0.7393099069595337 | Testing Acc: 30.0\n",
            "Epoch: 2810 | Training Loss: 0.6874892711639404 | Training Acc: 55.00000000000001 | Testing Loss: 0.739302933216095 | Testing Acc: 30.0\n",
            "Epoch: 2820 | Training Loss: 0.6874843835830688 | Training Acc: 55.00000000000001 | Testing Loss: 0.7392958402633667 | Testing Acc: 30.0\n",
            "Epoch: 2830 | Training Loss: 0.6874794960021973 | Training Acc: 55.00000000000001 | Testing Loss: 0.7392887473106384 | Testing Acc: 30.0\n",
            "Epoch: 2840 | Training Loss: 0.6874745488166809 | Training Acc: 55.00000000000001 | Testing Loss: 0.7392817735671997 | Testing Acc: 30.0\n",
            "Epoch: 2850 | Training Loss: 0.6874696016311646 | Training Acc: 55.00000000000001 | Testing Loss: 0.7392745018005371 | Testing Acc: 30.0\n",
            "Epoch: 2860 | Training Loss: 0.6874646544456482 | Training Acc: 55.00000000000001 | Testing Loss: 0.7392677068710327 | Testing Acc: 30.0\n",
            "Epoch: 2870 | Training Loss: 0.6874597668647766 | Training Acc: 55.00000000000001 | Testing Loss: 0.7392615079879761 | Testing Acc: 30.0\n",
            "Epoch: 2880 | Training Loss: 0.687454879283905 | Training Acc: 55.00000000000001 | Testing Loss: 0.7392544746398926 | Testing Acc: 30.0\n",
            "Epoch: 2890 | Training Loss: 0.6874499917030334 | Training Acc: 55.00000000000001 | Testing Loss: 0.7392475605010986 | Testing Acc: 30.0\n",
            "Epoch: 2900 | Training Loss: 0.6874450445175171 | Training Acc: 55.00000000000001 | Testing Loss: 0.7392410039901733 | Testing Acc: 30.0\n",
            "Epoch: 2910 | Training Loss: 0.6874400973320007 | Training Acc: 55.00000000000001 | Testing Loss: 0.7392347455024719 | Testing Acc: 30.0\n",
            "Epoch: 2920 | Training Loss: 0.68743497133255 | Training Acc: 55.00000000000001 | Testing Loss: 0.7392244935035706 | Testing Acc: 30.0\n",
            "Epoch: 2930 | Training Loss: 0.6874297857284546 | Training Acc: 55.00000000000001 | Testing Loss: 0.7392140626907349 | Testing Acc: 30.0\n",
            "Epoch: 2940 | Training Loss: 0.6874246001243591 | Training Acc: 55.00000000000001 | Testing Loss: 0.7392045259475708 | Testing Acc: 30.0\n",
            "Epoch: 2950 | Training Loss: 0.6874194145202637 | Training Acc: 55.00000000000001 | Testing Loss: 0.7391945123672485 | Testing Acc: 30.0\n",
            "Epoch: 2960 | Training Loss: 0.687414288520813 | Training Acc: 55.00000000000001 | Testing Loss: 0.7391848564147949 | Testing Acc: 30.0\n",
            "Epoch: 2970 | Training Loss: 0.6874090433120728 | Training Acc: 55.00000000000001 | Testing Loss: 0.7391753792762756 | Testing Acc: 30.0\n",
            "Epoch: 2980 | Training Loss: 0.6874039769172668 | Training Acc: 55.00000000000001 | Testing Loss: 0.7391660213470459 | Testing Acc: 30.0\n",
            "Epoch: 2990 | Training Loss: 0.6873987317085266 | Training Acc: 55.00000000000001 | Testing Loss: 0.7391564249992371 | Testing Acc: 30.0\n",
            "Epoch: 3000 | Training Loss: 0.6873936653137207 | Training Acc: 55.00000000000001 | Testing Loss: 0.7391494512557983 | Testing Acc: 30.0\n",
            "Epoch: 3010 | Training Loss: 0.68738853931427 | Training Acc: 55.00000000000001 | Testing Loss: 0.7391448020935059 | Testing Acc: 30.0\n",
            "Epoch: 3020 | Training Loss: 0.6873835325241089 | Training Acc: 55.00000000000001 | Testing Loss: 0.739139199256897 | Testing Acc: 30.0\n",
            "Epoch: 3030 | Training Loss: 0.687378466129303 | Training Acc: 55.00000000000001 | Testing Loss: 0.7391339540481567 | Testing Acc: 30.0\n",
            "Epoch: 3040 | Training Loss: 0.6873733997344971 | Training Acc: 55.00000000000001 | Testing Loss: 0.7391285300254822 | Testing Acc: 30.0\n",
            "Epoch: 3050 | Training Loss: 0.6873683929443359 | Training Acc: 55.00000000000001 | Testing Loss: 0.7391230463981628 | Testing Acc: 30.0\n",
            "Epoch: 3060 | Training Loss: 0.6873632669448853 | Training Acc: 55.00000000000001 | Testing Loss: 0.7391177415847778 | Testing Acc: 30.0\n",
            "Epoch: 3070 | Training Loss: 0.6873583197593689 | Training Acc: 55.00000000000001 | Testing Loss: 0.7391120195388794 | Testing Acc: 30.0\n",
            "Epoch: 3080 | Training Loss: 0.687353253364563 | Training Acc: 55.00000000000001 | Testing Loss: 0.7391064763069153 | Testing Acc: 30.0\n",
            "Epoch: 3090 | Training Loss: 0.6873481869697571 | Training Acc: 55.00000000000001 | Testing Loss: 0.7391005754470825 | Testing Acc: 30.0\n",
            "Epoch: 3100 | Training Loss: 0.6873430609703064 | Training Acc: 55.00000000000001 | Testing Loss: 0.7390950918197632 | Testing Acc: 30.0\n",
            "Epoch: 3110 | Training Loss: 0.6873379945755005 | Training Acc: 55.00000000000001 | Testing Loss: 0.7390892505645752 | Testing Acc: 30.0\n",
            "Epoch: 3120 | Training Loss: 0.6873329877853394 | Training Acc: 55.00000000000001 | Testing Loss: 0.7390835881233215 | Testing Acc: 30.0\n",
            "Epoch: 3130 | Training Loss: 0.6873278021812439 | Training Acc: 55.00000000000001 | Testing Loss: 0.739077091217041 | Testing Acc: 30.0\n",
            "Epoch: 3140 | Training Loss: 0.6873226761817932 | Training Acc: 55.00000000000001 | Testing Loss: 0.7390708923339844 | Testing Acc: 30.0\n",
            "Epoch: 3150 | Training Loss: 0.6873174905776978 | Training Acc: 55.00000000000001 | Testing Loss: 0.7390646934509277 | Testing Acc: 30.0\n",
            "Epoch: 3160 | Training Loss: 0.6873124241828918 | Training Acc: 55.00000000000001 | Testing Loss: 0.7390581965446472 | Testing Acc: 30.0\n",
            "Epoch: 3170 | Training Loss: 0.6873072385787964 | Training Acc: 55.00000000000001 | Testing Loss: 0.7390521764755249 | Testing Acc: 30.0\n",
            "Epoch: 3180 | Training Loss: 0.6873021125793457 | Training Acc: 55.00000000000001 | Testing Loss: 0.7390455007553101 | Testing Acc: 30.0\n",
            "Epoch: 3190 | Training Loss: 0.6872969269752502 | Training Acc: 55.00000000000001 | Testing Loss: 0.7390391826629639 | Testing Acc: 30.0\n",
            "Epoch: 3200 | Training Loss: 0.6872918009757996 | Training Acc: 55.00000000000001 | Testing Loss: 0.7390329837799072 | Testing Acc: 30.0\n",
            "Epoch: 3210 | Training Loss: 0.6872865557670593 | Training Acc: 55.00000000000001 | Testing Loss: 0.7390262484550476 | Testing Acc: 30.0\n",
            "Epoch: 3220 | Training Loss: 0.6872814297676086 | Training Acc: 55.00000000000001 | Testing Loss: 0.7390199303627014 | Testing Acc: 30.0\n",
            "Epoch: 3230 | Training Loss: 0.687276303768158 | Training Acc: 55.00000000000001 | Testing Loss: 0.7390134334564209 | Testing Acc: 30.0\n",
            "Epoch: 3240 | Training Loss: 0.6872710585594177 | Training Acc: 55.00000000000001 | Testing Loss: 0.7390069365501404 | Testing Acc: 30.0\n",
            "Epoch: 3250 | Training Loss: 0.687265932559967 | Training Acc: 55.00000000000001 | Testing Loss: 0.739000678062439 | Testing Acc: 30.0\n",
            "Epoch: 3260 | Training Loss: 0.6872607469558716 | Training Acc: 55.00000000000001 | Testing Loss: 0.7389941215515137 | Testing Acc: 30.0\n",
            "Epoch: 3270 | Training Loss: 0.6872555017471313 | Training Acc: 55.00000000000001 | Testing Loss: 0.7389878034591675 | Testing Acc: 30.0\n",
            "Epoch: 3280 | Training Loss: 0.6872504353523254 | Training Acc: 55.00000000000001 | Testing Loss: 0.7389810681343079 | Testing Acc: 30.0\n",
            "Epoch: 3290 | Training Loss: 0.6872451901435852 | Training Acc: 55.00000000000001 | Testing Loss: 0.7389745712280273 | Testing Acc: 30.0\n",
            "Epoch: 3300 | Training Loss: 0.687239944934845 | Training Acc: 55.00000000000001 | Testing Loss: 0.738967776298523 | Testing Acc: 30.0\n",
            "Epoch: 3310 | Training Loss: 0.6872348189353943 | Training Acc: 55.00000000000001 | Testing Loss: 0.7389615178108215 | Testing Acc: 30.0\n",
            "Epoch: 3320 | Training Loss: 0.6872296929359436 | Training Acc: 55.00000000000001 | Testing Loss: 0.7389557361602783 | Testing Acc: 30.0\n",
            "Epoch: 3330 | Training Loss: 0.6872245073318481 | Training Acc: 55.00000000000001 | Testing Loss: 0.7389494180679321 | Testing Acc: 30.0\n",
            "Epoch: 3340 | Training Loss: 0.6872193217277527 | Training Acc: 55.00000000000001 | Testing Loss: 0.738943338394165 | Testing Acc: 30.0\n",
            "Epoch: 3350 | Training Loss: 0.6872142553329468 | Training Acc: 55.00000000000001 | Testing Loss: 0.7389367818832397 | Testing Acc: 30.0\n",
            "Epoch: 3360 | Training Loss: 0.6872090101242065 | Training Acc: 55.00000000000001 | Testing Loss: 0.738930344581604 | Testing Acc: 30.0\n",
            "Epoch: 3370 | Training Loss: 0.6872038841247559 | Training Acc: 55.00000000000001 | Testing Loss: 0.7389238476753235 | Testing Acc: 30.0\n",
            "Epoch: 3380 | Training Loss: 0.6871987581253052 | Training Acc: 55.00000000000001 | Testing Loss: 0.7389177083969116 | Testing Acc: 30.0\n",
            "Epoch: 3390 | Training Loss: 0.6871934533119202 | Training Acc: 55.00000000000001 | Testing Loss: 0.7389119267463684 | Testing Acc: 30.0\n",
            "Epoch: 3400 | Training Loss: 0.6871883273124695 | Training Acc: 55.00000000000001 | Testing Loss: 0.7389052510261536 | Testing Acc: 30.0\n",
            "Epoch: 3410 | Training Loss: 0.687183141708374 | Training Acc: 55.00000000000001 | Testing Loss: 0.738898515701294 | Testing Acc: 30.0\n",
            "Epoch: 3420 | Training Loss: 0.6871779561042786 | Training Acc: 55.00000000000001 | Testing Loss: 0.7388919591903687 | Testing Acc: 30.0\n",
            "Epoch: 3430 | Training Loss: 0.6871727705001831 | Training Acc: 55.00000000000001 | Testing Loss: 0.7388854622840881 | Testing Acc: 30.0\n",
            "Epoch: 3440 | Training Loss: 0.6871675252914429 | Training Acc: 55.00000000000001 | Testing Loss: 0.7388784289360046 | Testing Acc: 30.0\n",
            "Epoch: 3450 | Training Loss: 0.687162458896637 | Training Acc: 55.00000000000001 | Testing Loss: 0.7388729453086853 | Testing Acc: 30.0\n",
            "Epoch: 3460 | Training Loss: 0.687157154083252 | Training Acc: 55.00000000000001 | Testing Loss: 0.7388662099838257 | Testing Acc: 30.0\n",
            "Epoch: 3470 | Training Loss: 0.6871519684791565 | Training Acc: 55.00000000000001 | Testing Loss: 0.738859236240387 | Testing Acc: 30.0\n",
            "Epoch: 3480 | Training Loss: 0.6871467232704163 | Training Acc: 55.00000000000001 | Testing Loss: 0.7388520836830139 | Testing Acc: 30.0\n",
            "Epoch: 3490 | Training Loss: 0.6871415376663208 | Training Acc: 55.00000000000001 | Testing Loss: 0.7388448715209961 | Testing Acc: 30.0\n",
            "Epoch: 3500 | Training Loss: 0.6871362924575806 | Training Acc: 55.00000000000001 | Testing Loss: 0.738838255405426 | Testing Acc: 30.0\n",
            "Epoch: 3510 | Training Loss: 0.6871310472488403 | Training Acc: 55.00000000000001 | Testing Loss: 0.7388309240341187 | Testing Acc: 30.0\n",
            "Epoch: 3520 | Training Loss: 0.6871258020401001 | Training Acc: 55.00000000000001 | Testing Loss: 0.7388240694999695 | Testing Acc: 30.0\n",
            "Epoch: 3530 | Training Loss: 0.6871206164360046 | Training Acc: 55.00000000000001 | Testing Loss: 0.7388169765472412 | Testing Acc: 30.0\n",
            "Epoch: 3540 | Training Loss: 0.6871153116226196 | Training Acc: 55.00000000000001 | Testing Loss: 0.7388098239898682 | Testing Acc: 30.0\n",
            "Epoch: 3550 | Training Loss: 0.6871100664138794 | Training Acc: 55.00000000000001 | Testing Loss: 0.7388033866882324 | Testing Acc: 30.0\n",
            "Epoch: 3560 | Training Loss: 0.6871048212051392 | Training Acc: 55.00000000000001 | Testing Loss: 0.738796055316925 | Testing Acc: 30.0\n",
            "Epoch: 3570 | Training Loss: 0.6870994567871094 | Training Acc: 55.00000000000001 | Testing Loss: 0.7387889623641968 | Testing Acc: 30.0\n",
            "Epoch: 3580 | Training Loss: 0.6870942115783691 | Training Acc: 55.00000000000001 | Testing Loss: 0.7387813329696655 | Testing Acc: 30.0\n",
            "Epoch: 3590 | Training Loss: 0.6870889067649841 | Training Acc: 55.00000000000001 | Testing Loss: 0.7387748956680298 | Testing Acc: 30.0\n",
            "Epoch: 3600 | Training Loss: 0.6870836615562439 | Training Acc: 55.00000000000001 | Testing Loss: 0.7387674450874329 | Testing Acc: 30.0\n",
            "Epoch: 3610 | Training Loss: 0.6870783567428589 | Training Acc: 55.00000000000001 | Testing Loss: 0.7387606501579285 | Testing Acc: 30.0\n",
            "Epoch: 3620 | Training Loss: 0.6870731115341187 | Training Acc: 55.00000000000001 | Testing Loss: 0.7387534976005554 | Testing Acc: 30.0\n",
            "Epoch: 3630 | Training Loss: 0.6870677471160889 | Training Acc: 55.00000000000001 | Testing Loss: 0.7387465238571167 | Testing Acc: 30.0\n",
            "Epoch: 3640 | Training Loss: 0.6870624423027039 | Training Acc: 55.00000000000001 | Testing Loss: 0.7387396097183228 | Testing Acc: 30.0\n",
            "Epoch: 3650 | Training Loss: 0.6870571970939636 | Training Acc: 55.00000000000001 | Testing Loss: 0.7387315034866333 | Testing Acc: 30.0\n",
            "Epoch: 3660 | Training Loss: 0.6870518922805786 | Training Acc: 55.00000000000001 | Testing Loss: 0.7387247085571289 | Testing Acc: 30.0\n",
            "Epoch: 3670 | Training Loss: 0.6870465874671936 | Training Acc: 55.00000000000001 | Testing Loss: 0.7387170791625977 | Testing Acc: 30.0\n",
            "Epoch: 3680 | Training Loss: 0.6870412230491638 | Training Acc: 55.00000000000001 | Testing Loss: 0.7387093901634216 | Testing Acc: 30.0\n",
            "Epoch: 3690 | Training Loss: 0.6870359778404236 | Training Acc: 55.00000000000001 | Testing Loss: 0.7387025952339172 | Testing Acc: 30.0\n",
            "Epoch: 3700 | Training Loss: 0.6870306730270386 | Training Acc: 55.00000000000001 | Testing Loss: 0.7386945486068726 | Testing Acc: 30.0\n",
            "Epoch: 3710 | Training Loss: 0.6870253086090088 | Training Acc: 55.00000000000001 | Testing Loss: 0.7386882305145264 | Testing Acc: 30.0\n",
            "Epoch: 3720 | Training Loss: 0.687019944190979 | Training Acc: 55.00000000000001 | Testing Loss: 0.7386802434921265 | Testing Acc: 30.0\n",
            "Epoch: 3730 | Training Loss: 0.687014639377594 | Training Acc: 55.00000000000001 | Testing Loss: 0.7386728525161743 | Testing Acc: 30.0\n",
            "Epoch: 3740 | Training Loss: 0.687009334564209 | Training Acc: 55.00000000000001 | Testing Loss: 0.7386659383773804 | Testing Acc: 30.0\n",
            "Epoch: 3750 | Training Loss: 0.6870039105415344 | Training Acc: 55.00000000000001 | Testing Loss: 0.7386585474014282 | Testing Acc: 30.0\n",
            "Epoch: 3760 | Training Loss: 0.6869986057281494 | Training Acc: 55.00000000000001 | Testing Loss: 0.7386510968208313 | Testing Acc: 30.0\n",
            "Epoch: 3770 | Training Loss: 0.6869933009147644 | Training Acc: 55.00000000000001 | Testing Loss: 0.7386436462402344 | Testing Acc: 30.0\n",
            "Epoch: 3780 | Training Loss: 0.6869879364967346 | Training Acc: 55.00000000000001 | Testing Loss: 0.7386364340782166 | Testing Acc: 30.0\n",
            "Epoch: 3790 | Training Loss: 0.6869824528694153 | Training Acc: 55.00000000000001 | Testing Loss: 0.7386293411254883 | Testing Acc: 30.0\n",
            "Epoch: 3800 | Training Loss: 0.6869771480560303 | Training Acc: 55.00000000000001 | Testing Loss: 0.7386215925216675 | Testing Acc: 30.0\n",
            "Epoch: 3810 | Training Loss: 0.6869716644287109 | Training Acc: 55.00000000000001 | Testing Loss: 0.7386149168014526 | Testing Acc: 30.0\n",
            "Epoch: 3820 | Training Loss: 0.6869663000106812 | Training Acc: 55.00000000000001 | Testing Loss: 0.7386075258255005 | Testing Acc: 30.0\n",
            "Epoch: 3830 | Training Loss: 0.6869608759880066 | Training Acc: 55.00000000000001 | Testing Loss: 0.738599419593811 | Testing Acc: 30.0\n",
            "Epoch: 3840 | Training Loss: 0.6869555115699768 | Training Acc: 55.00000000000001 | Testing Loss: 0.7385931611061096 | Testing Acc: 30.0\n",
            "Epoch: 3850 | Training Loss: 0.6869500279426575 | Training Acc: 55.00000000000001 | Testing Loss: 0.7385855317115784 | Testing Acc: 30.0\n",
            "Epoch: 3860 | Training Loss: 0.6869446039199829 | Training Acc: 55.00000000000001 | Testing Loss: 0.7385783195495605 | Testing Acc: 30.0\n",
            "Epoch: 3870 | Training Loss: 0.6869392395019531 | Training Acc: 55.00000000000001 | Testing Loss: 0.7385711073875427 | Testing Acc: 30.0\n",
            "Epoch: 3880 | Training Loss: 0.6869337558746338 | Training Acc: 55.00000000000001 | Testing Loss: 0.7385633587837219 | Testing Acc: 30.0\n",
            "Epoch: 3890 | Training Loss: 0.6869283318519592 | Training Acc: 55.00000000000001 | Testing Loss: 0.738556444644928 | Testing Acc: 30.0\n",
            "Epoch: 3900 | Training Loss: 0.6869227886199951 | Training Acc: 55.00000000000001 | Testing Loss: 0.7385491132736206 | Testing Acc: 30.0\n",
            "Epoch: 3910 | Training Loss: 0.6869174242019653 | Training Acc: 55.00000000000001 | Testing Loss: 0.7385420203208923 | Testing Acc: 30.0\n",
            "Epoch: 3920 | Training Loss: 0.6869118809700012 | Training Acc: 55.00000000000001 | Testing Loss: 0.7385345697402954 | Testing Acc: 30.0\n",
            "Epoch: 3930 | Training Loss: 0.6869063973426819 | Training Acc: 55.00000000000001 | Testing Loss: 0.7385268807411194 | Testing Acc: 30.0\n",
            "Epoch: 3940 | Training Loss: 0.6869009137153625 | Training Acc: 55.00000000000001 | Testing Loss: 0.7385201454162598 | Testing Acc: 30.0\n",
            "Epoch: 3950 | Training Loss: 0.6868953704833984 | Training Acc: 55.00000000000001 | Testing Loss: 0.7385128140449524 | Testing Acc: 30.0\n",
            "Epoch: 3960 | Training Loss: 0.6868898272514343 | Training Acc: 55.00000000000001 | Testing Loss: 0.7385051846504211 | Testing Acc: 30.0\n",
            "Epoch: 3970 | Training Loss: 0.6868844032287598 | Training Acc: 55.00000000000001 | Testing Loss: 0.7384980320930481 | Testing Acc: 30.0\n",
            "Epoch: 3980 | Training Loss: 0.6868789196014404 | Training Acc: 55.00000000000001 | Testing Loss: 0.7384905815124512 | Testing Acc: 30.0\n",
            "Epoch: 3990 | Training Loss: 0.6868733763694763 | Training Acc: 55.00000000000001 | Testing Loss: 0.7384837865829468 | Testing Acc: 30.0\n",
            "Epoch: 4000 | Training Loss: 0.686867892742157 | Training Acc: 55.00000000000001 | Testing Loss: 0.7384762763977051 | Testing Acc: 30.0\n",
            "Epoch: 4010 | Training Loss: 0.6868624091148376 | Training Acc: 55.00000000000001 | Testing Loss: 0.7384685277938843 | Testing Acc: 30.0\n",
            "Epoch: 4020 | Training Loss: 0.6868568658828735 | Training Acc: 55.00000000000001 | Testing Loss: 0.738461434841156 | Testing Acc: 30.0\n",
            "Epoch: 4030 | Training Loss: 0.6868513822555542 | Training Acc: 55.00000000000001 | Testing Loss: 0.7384539842605591 | Testing Acc: 30.0\n",
            "Epoch: 4040 | Training Loss: 0.6868457794189453 | Training Acc: 55.00000000000001 | Testing Loss: 0.7384470105171204 | Testing Acc: 30.0\n",
            "Epoch: 4050 | Training Loss: 0.686840295791626 | Training Acc: 55.00000000000001 | Testing Loss: 0.73843914270401 | Testing Acc: 30.0\n",
            "Epoch: 4060 | Training Loss: 0.6868346929550171 | Training Acc: 55.00000000000001 | Testing Loss: 0.738432765007019 | Testing Acc: 30.0\n",
            "Epoch: 4070 | Training Loss: 0.686829149723053 | Training Acc: 55.00000000000001 | Testing Loss: 0.738425076007843 | Testing Acc: 30.0\n",
            "Epoch: 4080 | Training Loss: 0.6868234872817993 | Training Acc: 55.00000000000001 | Testing Loss: 0.7384171485900879 | Testing Acc: 30.0\n",
            "Epoch: 4090 | Training Loss: 0.6868178844451904 | Training Acc: 55.00000000000001 | Testing Loss: 0.7384098768234253 | Testing Acc: 30.0\n",
            "Epoch: 4100 | Training Loss: 0.6868123412132263 | Training Acc: 55.00000000000001 | Testing Loss: 0.7384023666381836 | Testing Acc: 30.0\n",
            "Epoch: 4110 | Training Loss: 0.6868067979812622 | Training Acc: 55.00000000000001 | Testing Loss: 0.7383936643600464 | Testing Acc: 30.0\n",
            "Epoch: 4120 | Training Loss: 0.6868012547492981 | Training Acc: 55.00000000000001 | Testing Loss: 0.7383866906166077 | Testing Acc: 30.0\n",
            "Epoch: 4130 | Training Loss: 0.6867955923080444 | Training Acc: 55.00000000000001 | Testing Loss: 0.7383784651756287 | Testing Acc: 30.0\n",
            "Epoch: 4140 | Training Loss: 0.6867899894714355 | Training Acc: 55.00000000000001 | Testing Loss: 0.7383705377578735 | Testing Acc: 30.0\n",
            "Epoch: 4150 | Training Loss: 0.6867843270301819 | Training Acc: 55.00000000000001 | Testing Loss: 0.7383610606193542 | Testing Acc: 30.0\n",
            "Epoch: 4160 | Training Loss: 0.6867783665657043 | Training Acc: 55.00000000000001 | Testing Loss: 0.7383482456207275 | Testing Acc: 30.0\n",
            "Epoch: 4170 | Training Loss: 0.6867724061012268 | Training Acc: 55.00000000000001 | Testing Loss: 0.7383347749710083 | Testing Acc: 30.0\n",
            "Epoch: 4180 | Training Loss: 0.6867664456367493 | Training Acc: 55.00000000000001 | Testing Loss: 0.7383219003677368 | Testing Acc: 30.0\n",
            "Epoch: 4190 | Training Loss: 0.6867606043815613 | Training Acc: 55.00000000000001 | Testing Loss: 0.738314151763916 | Testing Acc: 30.0\n",
            "Epoch: 4200 | Training Loss: 0.6867548227310181 | Training Acc: 55.00000000000001 | Testing Loss: 0.7383052110671997 | Testing Acc: 30.0\n",
            "Epoch: 4210 | Training Loss: 0.6867488622665405 | Training Acc: 55.00000000000001 | Testing Loss: 0.7382970452308655 | Testing Acc: 30.0\n",
            "Epoch: 4220 | Training Loss: 0.6867430806159973 | Training Acc: 55.00000000000001 | Testing Loss: 0.7382888197898865 | Testing Acc: 30.0\n",
            "Epoch: 4230 | Training Loss: 0.6867372393608093 | Training Acc: 55.00000000000001 | Testing Loss: 0.7382795214653015 | Testing Acc: 30.0\n",
            "Epoch: 4240 | Training Loss: 0.6867313981056213 | Training Acc: 55.00000000000001 | Testing Loss: 0.7382718920707703 | Testing Acc: 30.0\n",
            "Epoch: 4250 | Training Loss: 0.6867254972457886 | Training Acc: 55.00000000000001 | Testing Loss: 0.7382633090019226 | Testing Acc: 30.0\n",
            "Epoch: 4260 | Training Loss: 0.6867195963859558 | Training Acc: 55.00000000000001 | Testing Loss: 0.7382563352584839 | Testing Acc: 30.0\n",
            "Epoch: 4270 | Training Loss: 0.6867138147354126 | Training Acc: 55.00000000000001 | Testing Loss: 0.7382482290267944 | Testing Acc: 30.0\n",
            "Epoch: 4280 | Training Loss: 0.6867079138755798 | Training Acc: 55.00000000000001 | Testing Loss: 0.7382417321205139 | Testing Acc: 30.0\n",
            "Epoch: 4290 | Training Loss: 0.6867021322250366 | Training Acc: 55.00000000000001 | Testing Loss: 0.7382344007492065 | Testing Acc: 30.0\n",
            "Epoch: 4300 | Training Loss: 0.6866962313652039 | Training Acc: 55.00000000000001 | Testing Loss: 0.7382270693778992 | Testing Acc: 30.0\n",
            "Epoch: 4310 | Training Loss: 0.6866904497146606 | Training Acc: 55.00000000000001 | Testing Loss: 0.7382200956344604 | Testing Acc: 30.0\n",
            "Epoch: 4320 | Training Loss: 0.6866845488548279 | Training Acc: 55.00000000000001 | Testing Loss: 0.7382124066352844 | Testing Acc: 30.0\n",
            "Epoch: 4330 | Training Loss: 0.6866785883903503 | Training Acc: 55.00000000000001 | Testing Loss: 0.7382059693336487 | Testing Acc: 30.0\n",
            "Epoch: 4340 | Training Loss: 0.6866728067398071 | Training Acc: 55.00000000000001 | Testing Loss: 0.7381988167762756 | Testing Acc: 30.0\n",
            "Epoch: 4350 | Training Loss: 0.6866669058799744 | Training Acc: 55.00000000000001 | Testing Loss: 0.7381909489631653 | Testing Acc: 30.0\n",
            "Epoch: 4360 | Training Loss: 0.6866609454154968 | Training Acc: 55.00000000000001 | Testing Loss: 0.7381837368011475 | Testing Acc: 30.0\n",
            "Epoch: 4370 | Training Loss: 0.6866550445556641 | Training Acc: 55.00000000000001 | Testing Loss: 0.7381771802902222 | Testing Acc: 30.0\n",
            "Epoch: 4380 | Training Loss: 0.6866491436958313 | Training Acc: 55.00000000000001 | Testing Loss: 0.738170325756073 | Testing Acc: 30.0\n",
            "Epoch: 4390 | Training Loss: 0.6866432428359985 | Training Acc: 55.00000000000001 | Testing Loss: 0.7381618618965149 | Testing Acc: 30.0\n",
            "Epoch: 4400 | Training Loss: 0.686637282371521 | Training Acc: 55.00000000000001 | Testing Loss: 0.7381545305252075 | Testing Acc: 30.0\n",
            "Epoch: 4410 | Training Loss: 0.6866313219070435 | Training Acc: 55.00000000000001 | Testing Loss: 0.7381480932235718 | Testing Acc: 30.0\n",
            "Epoch: 4420 | Training Loss: 0.6866253614425659 | Training Acc: 55.00000000000001 | Testing Loss: 0.7381399273872375 | Testing Acc: 30.0\n",
            "Epoch: 4430 | Training Loss: 0.6866193413734436 | Training Acc: 55.00000000000001 | Testing Loss: 0.7381325960159302 | Testing Acc: 30.0\n",
            "Epoch: 4440 | Training Loss: 0.6866133213043213 | Training Acc: 55.00000000000001 | Testing Loss: 0.738125205039978 | Testing Acc: 30.0\n",
            "Epoch: 4450 | Training Loss: 0.6866073608398438 | Training Acc: 55.00000000000001 | Testing Loss: 0.7381173372268677 | Testing Acc: 30.0\n",
            "Epoch: 4460 | Training Loss: 0.6866013407707214 | Training Acc: 55.00000000000001 | Testing Loss: 0.7381099462509155 | Testing Acc: 30.0\n",
            "Epoch: 4470 | Training Loss: 0.6865953803062439 | Training Acc: 55.00000000000001 | Testing Loss: 0.7381023168563843 | Testing Acc: 30.0\n",
            "Epoch: 4480 | Training Loss: 0.6865893602371216 | Training Acc: 55.00000000000001 | Testing Loss: 0.7380948066711426 | Testing Acc: 30.0\n",
            "Epoch: 4490 | Training Loss: 0.6865833401679993 | Training Acc: 55.00000000000001 | Testing Loss: 0.7380873560905457 | Testing Acc: 30.0\n",
            "Epoch: 4500 | Training Loss: 0.6865772604942322 | Training Acc: 55.00000000000001 | Testing Loss: 0.7380792498588562 | Testing Acc: 30.0\n",
            "Epoch: 4510 | Training Loss: 0.6865711808204651 | Training Acc: 55.00000000000001 | Testing Loss: 0.7380706667900085 | Testing Acc: 30.0\n",
            "Epoch: 4520 | Training Loss: 0.6865650415420532 | Training Acc: 55.00000000000001 | Testing Loss: 0.738063633441925 | Testing Acc: 30.0\n",
            "Epoch: 4530 | Training Loss: 0.6865590810775757 | Training Acc: 55.00000000000001 | Testing Loss: 0.7380560040473938 | Testing Acc: 30.0\n",
            "Epoch: 4540 | Training Loss: 0.6865529417991638 | Training Acc: 55.00000000000001 | Testing Loss: 0.7380481958389282 | Testing Acc: 30.0\n",
            "Epoch: 4550 | Training Loss: 0.6865467429161072 | Training Acc: 55.00000000000001 | Testing Loss: 0.7380403876304626 | Testing Acc: 30.0\n",
            "Epoch: 4560 | Training Loss: 0.6865407824516296 | Training Acc: 55.00000000000001 | Testing Loss: 0.7380326986312866 | Testing Acc: 30.0\n",
            "Epoch: 4570 | Training Loss: 0.686534583568573 | Training Acc: 55.00000000000001 | Testing Loss: 0.7380241751670837 | Testing Acc: 30.0\n",
            "Epoch: 4580 | Training Loss: 0.6865285634994507 | Training Acc: 55.00000000000001 | Testing Loss: 0.7380169630050659 | Testing Acc: 30.0\n",
            "Epoch: 4590 | Training Loss: 0.686522364616394 | Training Acc: 55.00000000000001 | Testing Loss: 0.7380083799362183 | Testing Acc: 30.0\n",
            "Epoch: 4600 | Training Loss: 0.6865161657333374 | Training Acc: 55.00000000000001 | Testing Loss: 0.7380004525184631 | Testing Acc: 30.0\n",
            "Epoch: 4610 | Training Loss: 0.6865099668502808 | Training Acc: 55.00000000000001 | Testing Loss: 0.737993061542511 | Testing Acc: 30.0\n",
            "Epoch: 4620 | Training Loss: 0.6865038871765137 | Training Acc: 55.00000000000001 | Testing Loss: 0.7379851937294006 | Testing Acc: 30.0\n",
            "Epoch: 4630 | Training Loss: 0.686497688293457 | Training Acc: 55.00000000000001 | Testing Loss: 0.7379757165908813 | Testing Acc: 30.0\n",
            "Epoch: 4640 | Training Loss: 0.6864914894104004 | Training Acc: 55.00000000000001 | Testing Loss: 0.7379685640335083 | Testing Acc: 30.0\n",
            "Epoch: 4650 | Training Loss: 0.686485230922699 | Training Acc: 55.00000000000001 | Testing Loss: 0.7379606366157532 | Testing Acc: 30.0\n",
            "Epoch: 4660 | Training Loss: 0.6864789724349976 | Training Acc: 55.00000000000001 | Testing Loss: 0.7379515767097473 | Testing Acc: 30.0\n",
            "Epoch: 4670 | Training Loss: 0.6864728331565857 | Training Acc: 55.00000000000001 | Testing Loss: 0.7379441857337952 | Testing Acc: 30.0\n",
            "Epoch: 4680 | Training Loss: 0.6864665150642395 | Training Acc: 55.00000000000001 | Testing Loss: 0.7379359006881714 | Testing Acc: 30.0\n",
            "Epoch: 4690 | Training Loss: 0.6864601969718933 | Training Acc: 55.00000000000001 | Testing Loss: 0.7379278540611267 | Testing Acc: 30.0\n",
            "Epoch: 4700 | Training Loss: 0.6864539384841919 | Training Acc: 55.00000000000001 | Testing Loss: 0.7379194498062134 | Testing Acc: 30.0\n",
            "Epoch: 4710 | Training Loss: 0.6864476799964905 | Training Acc: 55.00000000000001 | Testing Loss: 0.737911581993103 | Testing Acc: 30.0\n",
            "Epoch: 4720 | Training Loss: 0.6864414215087891 | Training Acc: 55.00000000000001 | Testing Loss: 0.737902820110321 | Testing Acc: 30.0\n",
            "Epoch: 4730 | Training Loss: 0.6864351034164429 | Training Acc: 55.00000000000001 | Testing Loss: 0.7378952503204346 | Testing Acc: 30.0\n",
            "Epoch: 4740 | Training Loss: 0.6864287257194519 | Training Acc: 55.00000000000001 | Testing Loss: 0.7378858923912048 | Testing Acc: 30.0\n",
            "Epoch: 4750 | Training Loss: 0.6864224672317505 | Training Acc: 55.00000000000001 | Testing Loss: 0.7378774881362915 | Testing Acc: 30.0\n",
            "Epoch: 4760 | Training Loss: 0.6864160895347595 | Training Acc: 55.00000000000001 | Testing Loss: 0.7378698587417603 | Testing Acc: 30.0\n",
            "Epoch: 4770 | Training Loss: 0.6864097714424133 | Training Acc: 55.00000000000001 | Testing Loss: 0.7378615140914917 | Testing Acc: 30.0\n",
            "Epoch: 4780 | Training Loss: 0.6864033937454224 | Training Acc: 55.00000000000001 | Testing Loss: 0.737852156162262 | Testing Acc: 30.0\n",
            "Epoch: 4790 | Training Loss: 0.6863970160484314 | Training Acc: 55.00000000000001 | Testing Loss: 0.7378439903259277 | Testing Acc: 30.0\n",
            "Epoch: 4800 | Training Loss: 0.6863905787467957 | Training Acc: 55.00000000000001 | Testing Loss: 0.7378355264663696 | Testing Acc: 30.0\n",
            "Epoch: 4810 | Training Loss: 0.6863841414451599 | Training Acc: 55.00000000000001 | Testing Loss: 0.7378271818161011 | Testing Acc: 30.0\n",
            "Epoch: 4820 | Training Loss: 0.686377763748169 | Training Acc: 55.00000000000001 | Testing Loss: 0.7378178238868713 | Testing Acc: 30.0\n",
            "Epoch: 4830 | Training Loss: 0.6863712668418884 | Training Acc: 55.00000000000001 | Testing Loss: 0.7378090023994446 | Testing Acc: 30.0\n",
            "Epoch: 4840 | Training Loss: 0.6863648891448975 | Training Acc: 55.00000000000001 | Testing Loss: 0.7378010153770447 | Testing Acc: 30.0\n",
            "Epoch: 4850 | Training Loss: 0.6863583922386169 | Training Acc: 55.00000000000001 | Testing Loss: 0.7377921938896179 | Testing Acc: 30.0\n",
            "Epoch: 4860 | Training Loss: 0.6863519549369812 | Training Acc: 55.00000000000001 | Testing Loss: 0.7377836108207703 | Testing Acc: 30.0\n",
            "Epoch: 4870 | Training Loss: 0.6863455176353455 | Training Acc: 55.00000000000001 | Testing Loss: 0.7377749681472778 | Testing Acc: 30.0\n",
            "Epoch: 4880 | Training Loss: 0.6863390207290649 | Training Acc: 55.00000000000001 | Testing Loss: 0.7377660274505615 | Testing Acc: 30.0\n",
            "Epoch: 4890 | Training Loss: 0.6863325238227844 | Training Acc: 55.00000000000001 | Testing Loss: 0.7377570867538452 | Testing Acc: 30.0\n",
            "Epoch: 4900 | Training Loss: 0.6863259077072144 | Training Acc: 55.00000000000001 | Testing Loss: 0.7377485036849976 | Testing Acc: 30.0\n"
          ]
        },
        {
          "output_type": "error",
          "ename": "KeyboardInterrupt",
          "evalue": "",
          "traceback": [
            "\u001b[0;31m---------------------------------------------------------------------------\u001b[0m",
            "\u001b[0;31mKeyboardInterrupt\u001b[0m                         Traceback (most recent call last)",
            "\u001b[0;32m<ipython-input-24-95111b269f76>\u001b[0m in \u001b[0;36m<cell line: 7>\u001b[0;34m()\u001b[0m\n\u001b[1;32m     16\u001b[0m \u001b[0;34m\u001b[0m\u001b[0m\n\u001b[1;32m     17\u001b[0m   \u001b[0;31m#make all the previous gradients to zero\u001b[0m\u001b[0;34m\u001b[0m\u001b[0;34m\u001b[0m\u001b[0m\n\u001b[0;32m---> 18\u001b[0;31m   \u001b[0moptimizer\u001b[0m\u001b[0;34m.\u001b[0m\u001b[0mzero_grad\u001b[0m\u001b[0;34m(\u001b[0m\u001b[0;34m)\u001b[0m\u001b[0;34m\u001b[0m\u001b[0;34m\u001b[0m\u001b[0m\n\u001b[0m\u001b[1;32m     19\u001b[0m   \u001b[0;31m#compute the gradients\u001b[0m\u001b[0;34m\u001b[0m\u001b[0;34m\u001b[0m\u001b[0m\n\u001b[1;32m     20\u001b[0m   \u001b[0mtraining_loss\u001b[0m\u001b[0;34m.\u001b[0m\u001b[0mbackward\u001b[0m\u001b[0;34m(\u001b[0m\u001b[0;34m)\u001b[0m\u001b[0;34m\u001b[0m\u001b[0;34m\u001b[0m\u001b[0m\n",
            "\u001b[0;32m/usr/local/lib/python3.10/dist-packages/torch/_compile.py\u001b[0m in \u001b[0;36minner\u001b[0;34m(*args, **kwargs)\u001b[0m\n\u001b[1;32m     22\u001b[0m             \u001b[0;32mimport\u001b[0m \u001b[0mtorch\u001b[0m\u001b[0;34m.\u001b[0m\u001b[0m_dynamo\u001b[0m\u001b[0;34m\u001b[0m\u001b[0;34m\u001b[0m\u001b[0m\n\u001b[1;32m     23\u001b[0m \u001b[0;34m\u001b[0m\u001b[0m\n\u001b[0;32m---> 24\u001b[0;31m             \u001b[0;32mreturn\u001b[0m \u001b[0mtorch\u001b[0m\u001b[0;34m.\u001b[0m\u001b[0m_dynamo\u001b[0m\u001b[0;34m.\u001b[0m\u001b[0mdisable\u001b[0m\u001b[0;34m(\u001b[0m\u001b[0mfn\u001b[0m\u001b[0;34m,\u001b[0m \u001b[0mrecursive\u001b[0m\u001b[0;34m)\u001b[0m\u001b[0;34m(\u001b[0m\u001b[0;34m*\u001b[0m\u001b[0margs\u001b[0m\u001b[0;34m,\u001b[0m \u001b[0;34m**\u001b[0m\u001b[0mkwargs\u001b[0m\u001b[0;34m)\u001b[0m\u001b[0;34m\u001b[0m\u001b[0;34m\u001b[0m\u001b[0m\n\u001b[0m\u001b[1;32m     25\u001b[0m \u001b[0;34m\u001b[0m\u001b[0m\n\u001b[1;32m     26\u001b[0m         \u001b[0;32mreturn\u001b[0m \u001b[0minner\u001b[0m\u001b[0;34m\u001b[0m\u001b[0;34m\u001b[0m\u001b[0m\n",
            "\u001b[0;32m/usr/local/lib/python3.10/dist-packages/torch/_dynamo/decorators.py\u001b[0m in \u001b[0;36mdisable\u001b[0;34m(fn, recursive)\u001b[0m\n\u001b[1;32m     45\u001b[0m             \u001b[0mfn\u001b[0m \u001b[0;34m=\u001b[0m \u001b[0minnermost_fn\u001b[0m\u001b[0;34m(\u001b[0m\u001b[0mfn\u001b[0m\u001b[0;34m)\u001b[0m\u001b[0;34m\u001b[0m\u001b[0;34m\u001b[0m\u001b[0m\n\u001b[1;32m     46\u001b[0m             \u001b[0;32massert\u001b[0m \u001b[0mcallable\u001b[0m\u001b[0;34m(\u001b[0m\u001b[0mfn\u001b[0m\u001b[0;34m)\u001b[0m\u001b[0;34m\u001b[0m\u001b[0;34m\u001b[0m\u001b[0m\n\u001b[0;32m---> 47\u001b[0;31m             \u001b[0;32mreturn\u001b[0m \u001b[0mDisableContext\u001b[0m\u001b[0;34m(\u001b[0m\u001b[0;34m)\u001b[0m\u001b[0;34m(\u001b[0m\u001b[0mfn\u001b[0m\u001b[0;34m)\u001b[0m\u001b[0;34m\u001b[0m\u001b[0;34m\u001b[0m\u001b[0m\n\u001b[0m\u001b[1;32m     48\u001b[0m         \u001b[0;32mreturn\u001b[0m \u001b[0mDisableContext\u001b[0m\u001b[0;34m(\u001b[0m\u001b[0;34m)\u001b[0m\u001b[0;34m\u001b[0m\u001b[0;34m\u001b[0m\u001b[0m\n\u001b[1;32m     49\u001b[0m     \u001b[0;32melse\u001b[0m\u001b[0;34m:\u001b[0m\u001b[0;34m\u001b[0m\u001b[0;34m\u001b[0m\u001b[0m\n",
            "\u001b[0;32m/usr/local/lib/python3.10/dist-packages/torch/_dynamo/eval_frame.py\u001b[0m in \u001b[0;36m__call__\u001b[0;34m(self, fn)\u001b[0m\n\u001b[1;32m    288\u001b[0m \u001b[0;34m\u001b[0m\u001b[0m\n\u001b[1;32m    289\u001b[0m         \u001b[0;32mtry\u001b[0m\u001b[0;34m:\u001b[0m\u001b[0;34m\u001b[0m\u001b[0;34m\u001b[0m\u001b[0m\n\u001b[0;32m--> 290\u001b[0;31m             \u001b[0mfilename\u001b[0m \u001b[0;34m=\u001b[0m \u001b[0minspect\u001b[0m\u001b[0;34m.\u001b[0m\u001b[0mgetsourcefile\u001b[0m\u001b[0;34m(\u001b[0m\u001b[0mfn\u001b[0m\u001b[0;34m)\u001b[0m\u001b[0;34m\u001b[0m\u001b[0;34m\u001b[0m\u001b[0m\n\u001b[0m\u001b[1;32m    291\u001b[0m         \u001b[0;32mexcept\u001b[0m \u001b[0mTypeError\u001b[0m\u001b[0;34m:\u001b[0m\u001b[0;34m\u001b[0m\u001b[0;34m\u001b[0m\u001b[0m\n\u001b[1;32m    292\u001b[0m             \u001b[0mfilename\u001b[0m \u001b[0;34m=\u001b[0m \u001b[0;32mNone\u001b[0m\u001b[0;34m\u001b[0m\u001b[0;34m\u001b[0m\u001b[0m\n",
            "\u001b[0;32m/usr/lib/python3.10/inspect.py\u001b[0m in \u001b[0;36mgetsourcefile\u001b[0;34m(object)\u001b[0m\n\u001b[1;32m    815\u001b[0m     \u001b[0mReturn\u001b[0m \u001b[0;32mNone\u001b[0m \u001b[0;32mif\u001b[0m \u001b[0mno\u001b[0m \u001b[0mway\u001b[0m \u001b[0mcan\u001b[0m \u001b[0mbe\u001b[0m \u001b[0midentified\u001b[0m \u001b[0mto\u001b[0m \u001b[0mget\u001b[0m \u001b[0mthe\u001b[0m \u001b[0msource\u001b[0m\u001b[0;34m.\u001b[0m\u001b[0;34m\u001b[0m\u001b[0;34m\u001b[0m\u001b[0m\n\u001b[1;32m    816\u001b[0m     \"\"\"\n\u001b[0;32m--> 817\u001b[0;31m     \u001b[0mfilename\u001b[0m \u001b[0;34m=\u001b[0m \u001b[0mgetfile\u001b[0m\u001b[0;34m(\u001b[0m\u001b[0mobject\u001b[0m\u001b[0;34m)\u001b[0m\u001b[0;34m\u001b[0m\u001b[0;34m\u001b[0m\u001b[0m\n\u001b[0m\u001b[1;32m    818\u001b[0m     \u001b[0mall_bytecode_suffixes\u001b[0m \u001b[0;34m=\u001b[0m \u001b[0mimportlib\u001b[0m\u001b[0;34m.\u001b[0m\u001b[0mmachinery\u001b[0m\u001b[0;34m.\u001b[0m\u001b[0mDEBUG_BYTECODE_SUFFIXES\u001b[0m\u001b[0;34m[\u001b[0m\u001b[0;34m:\u001b[0m\u001b[0;34m]\u001b[0m\u001b[0;34m\u001b[0m\u001b[0;34m\u001b[0m\u001b[0m\n\u001b[1;32m    819\u001b[0m     \u001b[0mall_bytecode_suffixes\u001b[0m \u001b[0;34m+=\u001b[0m \u001b[0mimportlib\u001b[0m\u001b[0;34m.\u001b[0m\u001b[0mmachinery\u001b[0m\u001b[0;34m.\u001b[0m\u001b[0mOPTIMIZED_BYTECODE_SUFFIXES\u001b[0m\u001b[0;34m[\u001b[0m\u001b[0;34m:\u001b[0m\u001b[0;34m]\u001b[0m\u001b[0;34m\u001b[0m\u001b[0;34m\u001b[0m\u001b[0m\n",
            "\u001b[0;32m/usr/local/lib/python3.10/dist-packages/torch/package/package_importer.py\u001b[0m in \u001b[0;36m_patched_getfile\u001b[0;34m(object)\u001b[0m\n\u001b[1;32m    694\u001b[0m         \u001b[0;32mif\u001b[0m \u001b[0mobject\u001b[0m\u001b[0;34m.\u001b[0m\u001b[0m__module__\u001b[0m \u001b[0;32min\u001b[0m \u001b[0m_package_imported_modules\u001b[0m\u001b[0;34m:\u001b[0m\u001b[0;34m\u001b[0m\u001b[0;34m\u001b[0m\u001b[0m\n\u001b[1;32m    695\u001b[0m             \u001b[0;32mreturn\u001b[0m \u001b[0m_package_imported_modules\u001b[0m\u001b[0;34m[\u001b[0m\u001b[0mobject\u001b[0m\u001b[0;34m.\u001b[0m\u001b[0m__module__\u001b[0m\u001b[0;34m]\u001b[0m\u001b[0;34m.\u001b[0m\u001b[0m__file__\u001b[0m\u001b[0;34m\u001b[0m\u001b[0;34m\u001b[0m\u001b[0m\n\u001b[0;32m--> 696\u001b[0;31m     \u001b[0;32mreturn\u001b[0m \u001b[0m_orig_getfile\u001b[0m\u001b[0;34m(\u001b[0m\u001b[0mobject\u001b[0m\u001b[0;34m)\u001b[0m\u001b[0;34m\u001b[0m\u001b[0;34m\u001b[0m\u001b[0m\n\u001b[0m\u001b[1;32m    697\u001b[0m \u001b[0;34m\u001b[0m\u001b[0m\n\u001b[1;32m    698\u001b[0m \u001b[0;34m\u001b[0m\u001b[0m\n",
            "\u001b[0;32m/usr/lib/python3.10/inspect.py\u001b[0m in \u001b[0;36mgetfile\u001b[0;34m(object)\u001b[0m\n\u001b[1;32m    789\u001b[0m     \u001b[0;32mif\u001b[0m \u001b[0misfunction\u001b[0m\u001b[0;34m(\u001b[0m\u001b[0mobject\u001b[0m\u001b[0;34m)\u001b[0m\u001b[0;34m:\u001b[0m\u001b[0;34m\u001b[0m\u001b[0;34m\u001b[0m\u001b[0m\n\u001b[1;32m    790\u001b[0m         \u001b[0mobject\u001b[0m \u001b[0;34m=\u001b[0m \u001b[0mobject\u001b[0m\u001b[0;34m.\u001b[0m\u001b[0m__code__\u001b[0m\u001b[0;34m\u001b[0m\u001b[0;34m\u001b[0m\u001b[0m\n\u001b[0;32m--> 791\u001b[0;31m     \u001b[0;32mif\u001b[0m \u001b[0mistraceback\u001b[0m\u001b[0;34m(\u001b[0m\u001b[0mobject\u001b[0m\u001b[0;34m)\u001b[0m\u001b[0;34m:\u001b[0m\u001b[0;34m\u001b[0m\u001b[0;34m\u001b[0m\u001b[0m\n\u001b[0m\u001b[1;32m    792\u001b[0m         \u001b[0mobject\u001b[0m \u001b[0;34m=\u001b[0m \u001b[0mobject\u001b[0m\u001b[0;34m.\u001b[0m\u001b[0mtb_frame\u001b[0m\u001b[0;34m\u001b[0m\u001b[0;34m\u001b[0m\u001b[0m\n\u001b[1;32m    793\u001b[0m     \u001b[0;32mif\u001b[0m \u001b[0misframe\u001b[0m\u001b[0;34m(\u001b[0m\u001b[0mobject\u001b[0m\u001b[0;34m)\u001b[0m\u001b[0;34m:\u001b[0m\u001b[0;34m\u001b[0m\u001b[0;34m\u001b[0m\u001b[0m\n",
            "\u001b[0;31mKeyboardInterrupt\u001b[0m: "
          ]
        }
      ]
    },
    {
      "cell_type": "code",
      "source": [
        "print(f\"My epoch count {epoch_count}\")\n",
        "print(f\"My training loss values are {train_loss_values}\")\n",
        "print(f\"My testing loss values are {test_loss_values}\")"
      ],
      "metadata": {
        "id": "dklkqP9l2hjv"
      },
      "execution_count": null,
      "outputs": []
    },
    {
      "cell_type": "markdown",
      "source": [
        "# Plot the loss curve"
      ],
      "metadata": {
        "id": "IUOuMUWq27Zt"
      }
    },
    {
      "cell_type": "markdown",
      "source": [
        "# When training model for longer or more data will not help"
      ],
      "metadata": {
        "id": "ZwSSzbjS3zp2"
      }
    },
    {
      "cell_type": "code",
      "source": [
        "plt.plot(epoch_count, train_loss_values, label=\"Training Loss\")\n",
        "plt.plot(epoch_count, test_loss_values, label=\"Testing Loss\")\n",
        "plt.title(\"Training and test loss curves\")\n",
        "plt.xlabel(\"Epoch count\")\n",
        "plt.ylabel(\"Loss\")\n",
        "plt.legend()"
      ],
      "metadata": {
        "id": "1DXLpO5829w1"
      },
      "execution_count": null,
      "outputs": []
    },
    {
      "cell_type": "markdown",
      "source": [
        "# May be training for longer time will help"
      ],
      "metadata": {
        "id": "9SNBmnvD33Yt"
      }
    },
    {
      "cell_type": "code",
      "source": [
        "plt.plot(epoch_count, train_loss_values, label=\"Training Loss\")\n",
        "plt.plot(epoch_count, test_loss_values, label=\"Testing Loss\")\n",
        "plt.title(\"Training and test loss curves\")\n",
        "plt.xlabel(\"Epoch count\")\n",
        "plt.ylabel(\"Loss\")\n",
        "plt.legend()"
      ],
      "metadata": {
        "id": "ijGMvLRd35tG"
      },
      "execution_count": null,
      "outputs": []
    },
    {
      "cell_type": "markdown",
      "source": [],
      "metadata": {
        "id": "DHl3RMsMyeM0"
      }
    }
  ]
}